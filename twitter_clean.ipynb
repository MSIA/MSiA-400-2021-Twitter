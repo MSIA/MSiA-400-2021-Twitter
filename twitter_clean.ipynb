{
  "cells": [
    {
      "cell_type": "code",
      "execution_count": 1,
      "metadata": {
        "id": "B2cbZkroRQwi"
      },
      "outputs": [],
      "source": [
        "import pandas as pd\n",
        "import numpy as np\n",
        "import matplotlib.pyplot as plt"
      ]
    },
    {
      "cell_type": "markdown",
      "metadata": {
        "id": "B528EGcBevTT"
      },
      "source": [
        "# Election2020_keyword File"
      ]
    },
    {
      "cell_type": "markdown",
      "metadata": {
        "id": "xtCpuzmSRQwk"
      },
      "source": [
        "### Schema Summary\n",
        "\n",
        "- `id_str`: set as index\n",
        "- `from_user`: user id \n",
        "- `text`: hard to encode, need more info\n",
        "- `created_at` & `time`: convert to `datetime`, similar data except different time zone \n",
        "- `geo_coordinates`: drop (due to empty)\n",
        "- `user_lang`: drop\n",
        "- `in_reply_to_user_id_str`: drop\n",
        "- `in_reply_to_screen_name`: drop\n",
        "- `in_reply_to_status_id_str`: drop\n",
        "- `source`: extract the text from url\n",
        "- `profile_image_url`: not sure how to use\n",
        "- `user_followers_count`: integer, clean data\n",
        "- `user_friends_count`: integer, clean data\n",
        "- `user_location`: messy, need more effort to clean\n",
        "- `entities_str`: json/dict, need more information to encode"
      ]
    },
    {
      "cell_type": "code",
      "execution_count": 2,
      "metadata": {
        "id": "JuwqsFHhRQwm"
      },
      "outputs": [],
      "source": [
        "df = pd.read_excel('Election2020_keyword.xlsx')"
      ]
    },
    {
      "cell_type": "code",
      "execution_count": 3,
      "metadata": {
        "colab": {
          "base_uri": "https://localhost:8080/"
        },
        "id": "tPtsf8_XRQwl",
        "outputId": "167876bd-2342-4a7b-abe5-ecf5eee15021"
      },
      "outputs": [
        {
          "data": {
            "text/plain": [
              "Index(['id_str', 'from_user', 'text', 'created_at', 'time', 'geo_coordinates',\n",
              "       'user_lang', 'in_reply_to_user_id_str', 'in_reply_to_screen_name',\n",
              "       'from_user_id_str', 'in_reply_to_status_id_str', 'source',\n",
              "       'profile_image_url', 'user_followers_count', 'user_friends_count',\n",
              "       'user_location', 'status_url', 'entities_str'],\n",
              "      dtype='object')"
            ]
          },
          "execution_count": 3,
          "metadata": {},
          "output_type": "execute_result"
        }
      ],
      "source": [
        "df.columns"
      ]
    },
    {
      "cell_type": "code",
      "execution_count": 4,
      "metadata": {
        "id": "0xvtpvM0RQwn"
      },
      "outputs": [],
      "source": [
        "df = df.convert_dtypes()"
      ]
    },
    {
      "cell_type": "code",
      "execution_count": 5,
      "metadata": {
        "colab": {
          "base_uri": "https://localhost:8080/"
        },
        "id": "SSSKxxhoRQwo",
        "outputId": "d0c3aa73-c16d-4ea9-f4f0-3d50405af043"
      },
      "outputs": [
        {
          "data": {
            "text/plain": [
              "id_str                                Int64\n",
              "from_user                            string\n",
              "text                                 string\n",
              "created_at                           string\n",
              "time                         datetime64[ns]\n",
              "geo_coordinates                       Int64\n",
              "user_lang                             Int64\n",
              "in_reply_to_user_id_str               Int64\n",
              "in_reply_to_screen_name              string\n",
              "from_user_id_str                      Int64\n",
              "in_reply_to_status_id_str             Int64\n",
              "source                               string\n",
              "profile_image_url                    string\n",
              "user_followers_count                  Int64\n",
              "user_friends_count                    Int64\n",
              "user_location                        string\n",
              "status_url                           string\n",
              "entities_str                         string\n",
              "dtype: object"
            ]
          },
          "execution_count": 5,
          "metadata": {},
          "output_type": "execute_result"
        }
      ],
      "source": [
        "df.dtypes"
      ]
    },
    {
      "cell_type": "code",
      "execution_count": 6,
      "metadata": {
        "id": "9bZ96L_FRQwp"
      },
      "outputs": [],
      "source": [
        "df.set_index('id_str', inplace=True)"
      ]
    },
    {
      "cell_type": "code",
      "execution_count": 7,
      "metadata": {
        "colab": {
          "base_uri": "https://localhost:8080/"
        },
        "id": "bf0uP4-BRQwq",
        "outputId": "23cb3562-50ff-4bf6-ab89-8859a60254cc",
        "scrolled": true
      },
      "outputs": [
        {
          "data": {
            "text/plain": [
              "<StringArray>\n",
              "[  'ErdenebulganB',     'smartjirgee',    'enkhtemuulen',   'CoverMongolia',\n",
              "          'iaacmn',       'e_namsrai',        'Mirmishk',   'GalSukhbaatar',\n",
              "       'altanalim',         'chimeg4',\n",
              " ...\n",
              "     'Enkhsoyombo',  'Davaajargal_DD', 'Bayarkhuu_japan',     'Baatarsukh7',\n",
              "   'urnaa_urnaa11',          'bukufy',      'SainbuyanM',       'borjigonB',\n",
              "     'BatkhishigS',      'Munhuyanga']\n",
              "Length: 1918, dtype: string"
            ]
          },
          "execution_count": 7,
          "metadata": {},
          "output_type": "execute_result"
        }
      ],
      "source": [
        "df.from_user.unique()"
      ]
    },
    {
      "cell_type": "markdown",
      "metadata": {
        "id": "IU58VLStRQwr"
      },
      "source": [
        "### Time \n",
        "`created_at` and `time`\n",
        "\n",
        "* assumption: same time except different time zone (one hour diff)"
      ]
    },
    {
      "cell_type": "code",
      "execution_count": 8,
      "metadata": {
        "id": "g79sNQCWRQwr"
      },
      "outputs": [],
      "source": [
        "df['created_at_datetime'] = pd.to_datetime(df['created_at'])"
      ]
    },
    {
      "cell_type": "code",
      "execution_count": 9,
      "metadata": {
        "colab": {
          "base_uri": "https://localhost:8080/"
        },
        "id": "qeNkmoHnRQws",
        "outputId": "05e0426f-41ea-46a1-8ee8-6f33d613bf92",
        "scrolled": true
      },
      "outputs": [
        {
          "data": {
            "text/plain": [
              "id_str\n",
              "1281604035506606080   2020-07-10 15:59:47\n",
              "1281048883578077185   2020-07-09 03:13:49\n",
              "1280902480461615106   2020-07-08 17:32:04\n",
              "1280345217271357440   2020-07-07 04:37:42\n",
              "1280304124207091714   2020-07-07 01:54:24\n",
              "                              ...        \n",
              "1269398002931650560   2020-06-06 23:37:22\n",
              "1269369617945788418   2020-06-06 21:44:35\n",
              "1269334276287287296   2020-06-06 19:24:09\n",
              "1269332511362109441   2020-06-06 19:17:08\n",
              "1269332511362109441   2020-06-06 19:17:08\n",
              "Name: time, Length: 4975, dtype: datetime64[ns]"
            ]
          },
          "execution_count": 9,
          "metadata": {},
          "output_type": "execute_result"
        }
      ],
      "source": [
        "df['time']"
      ]
    },
    {
      "cell_type": "code",
      "execution_count": 10,
      "metadata": {
        "colab": {
          "base_uri": "https://localhost:8080/"
        },
        "id": "SR5GRccPRQwt",
        "outputId": "f608a6e4-f524-4b3f-fd8f-3bac4a5a6795",
        "scrolled": true
      },
      "outputs": [
        {
          "data": {
            "text/plain": [
              "id_str\n",
              "1281604035506606080   2020-07-10 14:59:47+00:00\n",
              "1281048883578077185   2020-07-09 02:13:49+00:00\n",
              "1280902480461615106   2020-07-08 16:32:04+00:00\n",
              "1280345217271357440   2020-07-07 03:37:42+00:00\n",
              "1280304124207091714   2020-07-07 00:54:24+00:00\n",
              "                                 ...           \n",
              "1269398002931650560   2020-06-06 22:37:22+00:00\n",
              "1269369617945788418   2020-06-06 20:44:35+00:00\n",
              "1269334276287287296   2020-06-06 18:24:09+00:00\n",
              "1269332511362109441   2020-06-06 18:17:08+00:00\n",
              "1269332511362109441   2020-06-06 18:17:08+00:00\n",
              "Name: created_at_datetime, Length: 4975, dtype: datetime64[ns, UTC]"
            ]
          },
          "execution_count": 10,
          "metadata": {},
          "output_type": "execute_result"
        }
      ],
      "source": [
        "df['created_at_datetime']"
      ]
    },
    {
      "cell_type": "markdown",
      "metadata": {
        "id": "DkrUjidmRQwu"
      },
      "source": [
        "### Null \n",
        "\n",
        "drop columns: `geo_coordinates`, `user_lang`, `in_reply_to_user_id_str`, `in_reply_to_screen_name`, `in_reply_to_status_id_str`, due to large scale of empty"
      ]
    },
    {
      "cell_type": "code",
      "execution_count": 11,
      "metadata": {
        "colab": {
          "base_uri": "https://localhost:8080/"
        },
        "id": "NVPxS2sQRQwv",
        "outputId": "f75b640b-26ba-4845-f8ef-7732cfeb3583"
      },
      "outputs": [
        {
          "data": {
            "text/plain": [
              "from_user                    0.000000\n",
              "text                         0.000000\n",
              "created_at                   0.000000\n",
              "time                         0.000000\n",
              "geo_coordinates              1.000000\n",
              "user_lang                    1.000000\n",
              "in_reply_to_user_id_str      0.987940\n",
              "in_reply_to_screen_name      0.987940\n",
              "from_user_id_str             0.000000\n",
              "in_reply_to_status_id_str    0.988342\n",
              "source                       0.000000\n",
              "profile_image_url            0.000000\n",
              "user_followers_count         0.002412\n",
              "user_friends_count           0.001005\n",
              "user_location                0.299698\n",
              "status_url                   0.000000\n",
              "entities_str                 0.000000\n",
              "created_at_datetime          0.000000\n",
              "dtype: float64"
            ]
          },
          "execution_count": 11,
          "metadata": {},
          "output_type": "execute_result"
        }
      ],
      "source": [
        "df.isnull().mean()"
      ]
    },
    {
      "cell_type": "code",
      "execution_count": 12,
      "metadata": {
        "id": "pKCoAJuDRQww"
      },
      "outputs": [],
      "source": [
        "df.drop(df.columns[(df.isnull().mean() > 0.8)], axis=1, inplace=True)"
      ]
    },
    {
      "cell_type": "code",
      "execution_count": 13,
      "metadata": {
        "colab": {
          "base_uri": "https://localhost:8080/"
        },
        "id": "wj3aNUScRQwx",
        "outputId": "005585b1-348d-445a-8455-a396ee605050",
        "scrolled": false
      },
      "outputs": [
        {
          "data": {
            "text/plain": [
              "from_user                  0\n",
              "text                       0\n",
              "created_at                 0\n",
              "time                       0\n",
              "from_user_id_str           0\n",
              "source                     0\n",
              "profile_image_url          0\n",
              "user_followers_count      12\n",
              "user_friends_count         5\n",
              "user_location           1491\n",
              "status_url                 0\n",
              "entities_str               0\n",
              "created_at_datetime        0\n",
              "dtype: int64"
            ]
          },
          "execution_count": 13,
          "metadata": {},
          "output_type": "execute_result"
        }
      ],
      "source": [
        "df.isnull().sum()"
      ]
    },
    {
      "cell_type": "markdown",
      "metadata": {
        "id": "EjnF-J78RQwy"
      },
      "source": [
        "#### from_user_id_str\n",
        "\n",
        "* ??? `from_user_id_str` uncleared"
      ]
    },
    {
      "cell_type": "code",
      "execution_count": 14,
      "metadata": {
        "colab": {
          "base_uri": "https://localhost:8080/"
        },
        "id": "55I50hcMRQwz",
        "outputId": "7fe652c7-fbeb-4917-d566-19e7bcdd383c",
        "scrolled": true
      },
      "outputs": [
        {
          "data": {
            "text/plain": [
              "id_str\n",
              "1281604035506606080             1433166162\n",
              "1281048883578077185    1279233665608769538\n",
              "1280902480461615106              132748835\n",
              "1280345217271357440              483486676\n",
              "1280304124207091714    1264912426937405440\n",
              "                              ...         \n",
              "1269398002931650560               24906585\n",
              "1269369617945788418              610515084\n",
              "1269334276287287296    1117288242305323008\n",
              "1269332511362109441              136117682\n",
              "1269332511362109441              136117682\n",
              "Name: from_user_id_str, Length: 4975, dtype: Int64"
            ]
          },
          "execution_count": 14,
          "metadata": {},
          "output_type": "execute_result"
        }
      ],
      "source": [
        "df['from_user_id_str']"
      ]
    },
    {
      "cell_type": "code",
      "execution_count": 15,
      "metadata": {
        "colab": {
          "base_uri": "https://localhost:8080/",
          "height": 100
        },
        "id": "Vf67EiMkRQwz",
        "outputId": "79ea4406-b1d5-43f1-ca3f-32b7a0b4c52f",
        "scrolled": false
      },
      "outputs": [
        {
          "data": {
            "text/html": [
              "<div>\n",
              "<style scoped>\n",
              "    .dataframe tbody tr th:only-of-type {\n",
              "        vertical-align: middle;\n",
              "    }\n",
              "\n",
              "    .dataframe tbody tr th {\n",
              "        vertical-align: top;\n",
              "    }\n",
              "\n",
              "    .dataframe thead th {\n",
              "        text-align: right;\n",
              "    }\n",
              "</style>\n",
              "<table border=\"1\" class=\"dataframe\">\n",
              "  <thead>\n",
              "    <tr style=\"text-align: right;\">\n",
              "      <th></th>\n",
              "      <th>from_user</th>\n",
              "      <th>text</th>\n",
              "      <th>created_at</th>\n",
              "      <th>time</th>\n",
              "      <th>from_user_id_str</th>\n",
              "      <th>source</th>\n",
              "      <th>profile_image_url</th>\n",
              "      <th>user_followers_count</th>\n",
              "      <th>user_friends_count</th>\n",
              "      <th>user_location</th>\n",
              "      <th>status_url</th>\n",
              "      <th>entities_str</th>\n",
              "      <th>created_at_datetime</th>\n",
              "    </tr>\n",
              "    <tr>\n",
              "      <th>id_str</th>\n",
              "      <th></th>\n",
              "      <th></th>\n",
              "      <th></th>\n",
              "      <th></th>\n",
              "      <th></th>\n",
              "      <th></th>\n",
              "      <th></th>\n",
              "      <th></th>\n",
              "      <th></th>\n",
              "      <th></th>\n",
              "      <th></th>\n",
              "      <th></th>\n",
              "      <th></th>\n",
              "    </tr>\n",
              "  </thead>\n",
              "  <tbody>\n",
              "  </tbody>\n",
              "</table>\n",
              "</div>"
            ],
            "text/plain": [
              "Empty DataFrame\n",
              "Columns: [from_user, text, created_at, time, from_user_id_str, source, profile_image_url, user_followers_count, user_friends_count, user_location, status_url, entities_str, created_at_datetime]\n",
              "Index: []"
            ]
          },
          "execution_count": 15,
          "metadata": {},
          "output_type": "execute_result"
        }
      ],
      "source": [
        "df[df['from_user_id_str'] == df.index]"
      ]
    },
    {
      "cell_type": "code",
      "execution_count": 16,
      "metadata": {
        "id": "880AL92uRQw0"
      },
      "outputs": [],
      "source": [
        "df['source_txt'] = df.source.str.findall('\\>(.+)\\<').apply(lambda x: x[0] if x else '')"
      ]
    },
    {
      "cell_type": "code",
      "execution_count": 17,
      "metadata": {
        "colab": {
          "base_uri": "https://localhost:8080/"
        },
        "id": "-7vdz1psRQw1",
        "outputId": "d1f3b513-0c19-4651-db81-e9a946007460",
        "scrolled": true
      },
      "outputs": [
        {
          "data": {
            "text/plain": [
              "0"
            ]
          },
          "execution_count": 17,
          "metadata": {},
          "output_type": "execute_result"
        }
      ],
      "source": [
        "df.source_txt.isnull().sum()"
      ]
    },
    {
      "cell_type": "code",
      "execution_count": 18,
      "metadata": {
        "colab": {
          "base_uri": "https://localhost:8080/"
        },
        "id": "w4plg-_iRQw1",
        "outputId": "076de880-a8ad-494c-fa06-06357b24d8b3"
      },
      "outputs": [
        {
          "data": {
            "text/plain": [
              "Twitter for iPhone      2046\n",
              "Twitter for Android     1937\n",
              "Twitter Web App          856\n",
              "Twitter for iPad          61\n",
              "TweetDeck                 41\n",
              "botmn                     20\n",
              "Hatena Blog / はてなブログ       6\n",
              "SocialFlow                 3\n",
              "Tweetbot for iΟS           1\n",
              "Twidere for Android        1\n",
              "IFTTT                      1\n",
              "RRasdasdasdas              1\n",
              "Instagram                  1\n",
              "Name: source_txt, dtype: int64"
            ]
          },
          "execution_count": 18,
          "metadata": {},
          "output_type": "execute_result"
        }
      ],
      "source": [
        "df.source_txt.value_counts()"
      ]
    },
    {
      "cell_type": "code",
      "execution_count": 19,
      "metadata": {
        "colab": {
          "base_uri": "https://localhost:8080/",
          "height": 895
        },
        "id": "y9zsR6DQSdF4",
        "outputId": "919aaf41-3e55-4ca1-d899-50e8fee7f1d1"
      },
      "outputs": [
        {
          "data": {
            "text/html": [
              "<div>\n",
              "<style scoped>\n",
              "    .dataframe tbody tr th:only-of-type {\n",
              "        vertical-align: middle;\n",
              "    }\n",
              "\n",
              "    .dataframe tbody tr th {\n",
              "        vertical-align: top;\n",
              "    }\n",
              "\n",
              "    .dataframe thead th {\n",
              "        text-align: right;\n",
              "    }\n",
              "</style>\n",
              "<table border=\"1\" class=\"dataframe\">\n",
              "  <thead>\n",
              "    <tr style=\"text-align: right;\">\n",
              "      <th></th>\n",
              "      <th>from_user</th>\n",
              "      <th>text</th>\n",
              "      <th>created_at</th>\n",
              "      <th>time</th>\n",
              "      <th>from_user_id_str</th>\n",
              "      <th>source</th>\n",
              "      <th>profile_image_url</th>\n",
              "      <th>user_followers_count</th>\n",
              "      <th>user_friends_count</th>\n",
              "      <th>user_location</th>\n",
              "      <th>status_url</th>\n",
              "      <th>entities_str</th>\n",
              "      <th>created_at_datetime</th>\n",
              "      <th>source_txt</th>\n",
              "    </tr>\n",
              "    <tr>\n",
              "      <th>id_str</th>\n",
              "      <th></th>\n",
              "      <th></th>\n",
              "      <th></th>\n",
              "      <th></th>\n",
              "      <th></th>\n",
              "      <th></th>\n",
              "      <th></th>\n",
              "      <th></th>\n",
              "      <th></th>\n",
              "      <th></th>\n",
              "      <th></th>\n",
              "      <th></th>\n",
              "      <th></th>\n",
              "      <th></th>\n",
              "    </tr>\n",
              "  </thead>\n",
              "  <tbody>\n",
              "    <tr>\n",
              "      <th>1281604035506606080</th>\n",
              "      <td>ErdenebulganB</td>\n",
              "      <td>65 vs. 62\n",
              "#УИХ #МАН #суперолонх #УлсТөр\n",
              "#сонгу...</td>\n",
              "      <td>Fri Jul 10 14:59:47 +0000 2020</td>\n",
              "      <td>2020-07-10 15:59:47</td>\n",
              "      <td>1433166162</td>\n",
              "      <td>&lt;a href=\"https://mobile.twitter.com\" rel=\"nofo...</td>\n",
              "      <td>http://pbs.twimg.com/profile_images/1279424686...</td>\n",
              "      <td>14828</td>\n",
              "      <td>7943</td>\n",
              "      <td>&lt;NA&gt;</td>\n",
              "      <td>http://twitter.com/ErdenebulganB/statuses/1281...</td>\n",
              "      <td>{\"hashtags\":[{\"text\":\"УИХ\",\"indices\":[10,14]},...</td>\n",
              "      <td>2020-07-10 14:59:47+00:00</td>\n",
              "      <td>Twitter Web App</td>\n",
              "    </tr>\n",
              "    <tr>\n",
              "      <th>1281048883578077185</th>\n",
              "      <td>smartjirgee</td>\n",
              "      <td>RT @jdierkes: MPP cld rely on 220k members to ...</td>\n",
              "      <td>Thu Jul 09 02:13:49 +0000 2020</td>\n",
              "      <td>2020-07-09 03:13:49</td>\n",
              "      <td>1279233665608769538</td>\n",
              "      <td>&lt;a href=\"http://twitter.com/download/iphone\" r...</td>\n",
              "      <td>http://pbs.twimg.com/profile_images/1279237367...</td>\n",
              "      <td>570</td>\n",
              "      <td>1965</td>\n",
              "      <td>Ulaanbaatar Mongolia</td>\n",
              "      <td>http://twitter.com/smartjirgee/statuses/128104...</td>\n",
              "      <td>{\"hashtags\":[],\"symbols\":[],\"user_mentions\":[{...</td>\n",
              "      <td>2020-07-09 02:13:49+00:00</td>\n",
              "      <td>Twitter for iPhone</td>\n",
              "    </tr>\n",
              "    <tr>\n",
              "      <th>1280902480461615106</th>\n",
              "      <td>enkhtemuulen</td>\n",
              "      <td>У нас тоже #сонгууль2020 😂 https://t.co/90294p...</td>\n",
              "      <td>Wed Jul 08 16:32:04 +0000 2020</td>\n",
              "      <td>2020-07-08 17:32:04</td>\n",
              "      <td>132748835</td>\n",
              "      <td>&lt;a href=\"http://twitter.com/#!/download/ipad\" ...</td>\n",
              "      <td>http://pbs.twimg.com/profile_images/1263348467...</td>\n",
              "      <td>2661</td>\n",
              "      <td>1063</td>\n",
              "      <td>Mongolia</td>\n",
              "      <td>http://twitter.com/enkhtemuulen/statuses/12809...</td>\n",
              "      <td>{\"hashtags\":[{\"text\":\"сонгууль2020\",\"indices\":...</td>\n",
              "      <td>2020-07-08 16:32:04+00:00</td>\n",
              "      <td>Twitter for iPad</td>\n",
              "    </tr>\n",
              "    <tr>\n",
              "      <th>1280345217271357440</th>\n",
              "      <td>CoverMongolia</td>\n",
              "      <td>RT @jdierkes: MPP cld rely on 220k members to ...</td>\n",
              "      <td>Tue Jul 07 03:37:42 +0000 2020</td>\n",
              "      <td>2020-07-07 04:37:42</td>\n",
              "      <td>483486676</td>\n",
              "      <td>&lt;a href=\"https://mobile.twitter.com\" rel=\"nofo...</td>\n",
              "      <td>http://pbs.twimg.com/profile_images/6659580228...</td>\n",
              "      <td>48160</td>\n",
              "      <td>48643</td>\n",
              "      <td>Ulaanbaatar, Mongolia</td>\n",
              "      <td>http://twitter.com/CoverMongolia/statuses/1280...</td>\n",
              "      <td>{\"hashtags\":[],\"symbols\":[],\"user_mentions\":[{...</td>\n",
              "      <td>2020-07-07 03:37:42+00:00</td>\n",
              "      <td>Twitter Web App</td>\n",
              "    </tr>\n",
              "    <tr>\n",
              "      <th>1280304124207091714</th>\n",
              "      <td>iaacmn</td>\n",
              "      <td>RT @Batbayasgalan: Төрийн минь #Сүлд өршөө! 🇲🇳...</td>\n",
              "      <td>Tue Jul 07 00:54:24 +0000 2020</td>\n",
              "      <td>2020-07-07 01:54:24</td>\n",
              "      <td>1264912426937405440</td>\n",
              "      <td>&lt;a href=\"https://mobile.twitter.com\" rel=\"nofo...</td>\n",
              "      <td>http://pbs.twimg.com/profile_images/1264913233...</td>\n",
              "      <td>90</td>\n",
              "      <td>231</td>\n",
              "      <td>Ulaanbaatar</td>\n",
              "      <td>http://twitter.com/iaacmn/statuses/12803041242...</td>\n",
              "      <td>{\"hashtags\":[{\"text\":\"Сүлд\",\"indices\":[31,36]}...</td>\n",
              "      <td>2020-07-07 00:54:24+00:00</td>\n",
              "      <td>Twitter Web App</td>\n",
              "    </tr>\n",
              "    <tr>\n",
              "      <th>...</th>\n",
              "      <td>...</td>\n",
              "      <td>...</td>\n",
              "      <td>...</td>\n",
              "      <td>...</td>\n",
              "      <td>...</td>\n",
              "      <td>...</td>\n",
              "      <td>...</td>\n",
              "      <td>...</td>\n",
              "      <td>...</td>\n",
              "      <td>...</td>\n",
              "      <td>...</td>\n",
              "      <td>...</td>\n",
              "      <td>...</td>\n",
              "      <td>...</td>\n",
              "    </tr>\n",
              "    <tr>\n",
              "      <th>1269398002931650560</th>\n",
              "      <td>jdierkes</td>\n",
              "      <td>W/ most recent post updating list of parties &amp;...</td>\n",
              "      <td>Sat Jun 06 22:37:22 +0000 2020</td>\n",
              "      <td>2020-06-06 23:37:22</td>\n",
              "      <td>24906585</td>\n",
              "      <td>&lt;a href=\"https://mobile.twitter.com\" rel=\"nofo...</td>\n",
              "      <td>http://pbs.twimg.com/profile_images/9598923436...</td>\n",
              "      <td>6168</td>\n",
              "      <td>1202</td>\n",
              "      <td>Vancouver, British Columbia</td>\n",
              "      <td>http://twitter.com/jdierkes/statuses/126939800...</td>\n",
              "      <td>{\"hashtags\":[{\"text\":\"Сонгууль2020\",\"indices\":...</td>\n",
              "      <td>2020-06-06 22:37:22+00:00</td>\n",
              "      <td>Twitter Web App</td>\n",
              "    </tr>\n",
              "    <tr>\n",
              "      <th>1269369617945788418</th>\n",
              "      <td>chbudee</td>\n",
              "      <td>Нөгөө өндөгнүүдийг унагааж бгаа бичлэг нь бас ...</td>\n",
              "      <td>Sat Jun 06 20:44:35 +0000 2020</td>\n",
              "      <td>2020-06-06 21:44:35</td>\n",
              "      <td>610515084</td>\n",
              "      <td>&lt;a href=\"http://twitter.com/download/android\" ...</td>\n",
              "      <td>http://pbs.twimg.com/profile_images/1069254890...</td>\n",
              "      <td>1300</td>\n",
              "      <td>2290</td>\n",
              "      <td>&lt;NA&gt;</td>\n",
              "      <td>http://twitter.com/chbudee/statuses/1269369617...</td>\n",
              "      <td>{\"hashtags\":[{\"text\":\"Сонгууль2020\",\"indices\":...</td>\n",
              "      <td>2020-06-06 20:44:35+00:00</td>\n",
              "      <td>Twitter for Android</td>\n",
              "    </tr>\n",
              "    <tr>\n",
              "      <th>1269334276287287296</th>\n",
              "      <td>zaya_ari</td>\n",
              "      <td>Ханиа зөв сонго, ханиа л зөв сонго гэх юм. \n",
              "76...</td>\n",
              "      <td>Sat Jun 06 18:24:09 +0000 2020</td>\n",
              "      <td>2020-06-06 19:24:09</td>\n",
              "      <td>1117288242305323008</td>\n",
              "      <td>&lt;a href=\"http://twitter.com/download/android\" ...</td>\n",
              "      <td>http://pbs.twimg.com/profile_images/1259675553...</td>\n",
              "      <td>1028</td>\n",
              "      <td>735</td>\n",
              "      <td>Mongolia</td>\n",
              "      <td>http://twitter.com/zaya_ari/statuses/126933427...</td>\n",
              "      <td>{\"hashtags\":[{\"text\":\"Сонгууль2020\",\"indices\":...</td>\n",
              "      <td>2020-06-06 18:24:09+00:00</td>\n",
              "      <td>Twitter for Android</td>\n",
              "    </tr>\n",
              "    <tr>\n",
              "      <th>1269332511362109441</th>\n",
              "      <td>TTuguldur_CFC</td>\n",
              "      <td>#Цуйван #Сонгууль2020 #Mongolia https://t.co/h...</td>\n",
              "      <td>Sat Jun 06 18:17:08 +0000 2020</td>\n",
              "      <td>2020-06-06 19:17:08</td>\n",
              "      <td>136117682</td>\n",
              "      <td>&lt;a href=\"http://twitter.com/download/android\" ...</td>\n",
              "      <td>http://pbs.twimg.com/profile_images/1137946823...</td>\n",
              "      <td>2464</td>\n",
              "      <td>4399</td>\n",
              "      <td>ulaanbaatar</td>\n",
              "      <td>http://twitter.com/TTuguldur_CFC/statuses/1269...</td>\n",
              "      <td>{\"hashtags\":[{\"text\":\"Цуйван\",\"indices\":[0,7]}...</td>\n",
              "      <td>2020-06-06 18:17:08+00:00</td>\n",
              "      <td>Twitter for Android</td>\n",
              "    </tr>\n",
              "    <tr>\n",
              "      <th>1269332511362109441</th>\n",
              "      <td>TTuguldur_CFC</td>\n",
              "      <td>#Цуйван #Сонгууль2020 #Mongolia https://t.co/h...</td>\n",
              "      <td>Sat Jun 06 18:17:08 +0000 2020</td>\n",
              "      <td>2020-06-06 19:17:08</td>\n",
              "      <td>136117682</td>\n",
              "      <td>&lt;a href=\"http://twitter.com/download/android\" ...</td>\n",
              "      <td>http://pbs.twimg.com/profile_images/1137946823...</td>\n",
              "      <td>2464</td>\n",
              "      <td>4399</td>\n",
              "      <td>ulaanbaatar</td>\n",
              "      <td>http://twitter.com/TTuguldur_CFC/statuses/1269...</td>\n",
              "      <td>{\"hashtags\":[{\"text\":\"Цуйван\",\"indices\":[0,7]}...</td>\n",
              "      <td>2020-06-06 18:17:08+00:00</td>\n",
              "      <td>Twitter for Android</td>\n",
              "    </tr>\n",
              "  </tbody>\n",
              "</table>\n",
              "<p>4975 rows × 14 columns</p>\n",
              "</div>"
            ],
            "text/plain": [
              "                         from_user  \\\n",
              "id_str                               \n",
              "1281604035506606080  ErdenebulganB   \n",
              "1281048883578077185    smartjirgee   \n",
              "1280902480461615106   enkhtemuulen   \n",
              "1280345217271357440  CoverMongolia   \n",
              "1280304124207091714         iaacmn   \n",
              "...                            ...   \n",
              "1269398002931650560       jdierkes   \n",
              "1269369617945788418        chbudee   \n",
              "1269334276287287296       zaya_ari   \n",
              "1269332511362109441  TTuguldur_CFC   \n",
              "1269332511362109441  TTuguldur_CFC   \n",
              "\n",
              "                                                                  text  \\\n",
              "id_str                                                                   \n",
              "1281604035506606080  65 vs. 62\n",
              "#УИХ #МАН #суперолонх #УлсТөр\n",
              "#сонгу...   \n",
              "1281048883578077185  RT @jdierkes: MPP cld rely on 220k members to ...   \n",
              "1280902480461615106  У нас тоже #сонгууль2020 😂 https://t.co/90294p...   \n",
              "1280345217271357440  RT @jdierkes: MPP cld rely on 220k members to ...   \n",
              "1280304124207091714  RT @Batbayasgalan: Төрийн минь #Сүлд өршөө! 🇲🇳...   \n",
              "...                                                                ...   \n",
              "1269398002931650560  W/ most recent post updating list of parties &...   \n",
              "1269369617945788418  Нөгөө өндөгнүүдийг унагааж бгаа бичлэг нь бас ...   \n",
              "1269334276287287296  Ханиа зөв сонго, ханиа л зөв сонго гэх юм. \n",
              "76...   \n",
              "1269332511362109441  #Цуйван #Сонгууль2020 #Mongolia https://t.co/h...   \n",
              "1269332511362109441  #Цуйван #Сонгууль2020 #Mongolia https://t.co/h...   \n",
              "\n",
              "                                         created_at                time  \\\n",
              "id_str                                                                    \n",
              "1281604035506606080  Fri Jul 10 14:59:47 +0000 2020 2020-07-10 15:59:47   \n",
              "1281048883578077185  Thu Jul 09 02:13:49 +0000 2020 2020-07-09 03:13:49   \n",
              "1280902480461615106  Wed Jul 08 16:32:04 +0000 2020 2020-07-08 17:32:04   \n",
              "1280345217271357440  Tue Jul 07 03:37:42 +0000 2020 2020-07-07 04:37:42   \n",
              "1280304124207091714  Tue Jul 07 00:54:24 +0000 2020 2020-07-07 01:54:24   \n",
              "...                                             ...                 ...   \n",
              "1269398002931650560  Sat Jun 06 22:37:22 +0000 2020 2020-06-06 23:37:22   \n",
              "1269369617945788418  Sat Jun 06 20:44:35 +0000 2020 2020-06-06 21:44:35   \n",
              "1269334276287287296  Sat Jun 06 18:24:09 +0000 2020 2020-06-06 19:24:09   \n",
              "1269332511362109441  Sat Jun 06 18:17:08 +0000 2020 2020-06-06 19:17:08   \n",
              "1269332511362109441  Sat Jun 06 18:17:08 +0000 2020 2020-06-06 19:17:08   \n",
              "\n",
              "                        from_user_id_str  \\\n",
              "id_str                                     \n",
              "1281604035506606080           1433166162   \n",
              "1281048883578077185  1279233665608769538   \n",
              "1280902480461615106            132748835   \n",
              "1280345217271357440            483486676   \n",
              "1280304124207091714  1264912426937405440   \n",
              "...                                  ...   \n",
              "1269398002931650560             24906585   \n",
              "1269369617945788418            610515084   \n",
              "1269334276287287296  1117288242305323008   \n",
              "1269332511362109441            136117682   \n",
              "1269332511362109441            136117682   \n",
              "\n",
              "                                                                source  \\\n",
              "id_str                                                                   \n",
              "1281604035506606080  <a href=\"https://mobile.twitter.com\" rel=\"nofo...   \n",
              "1281048883578077185  <a href=\"http://twitter.com/download/iphone\" r...   \n",
              "1280902480461615106  <a href=\"http://twitter.com/#!/download/ipad\" ...   \n",
              "1280345217271357440  <a href=\"https://mobile.twitter.com\" rel=\"nofo...   \n",
              "1280304124207091714  <a href=\"https://mobile.twitter.com\" rel=\"nofo...   \n",
              "...                                                                ...   \n",
              "1269398002931650560  <a href=\"https://mobile.twitter.com\" rel=\"nofo...   \n",
              "1269369617945788418  <a href=\"http://twitter.com/download/android\" ...   \n",
              "1269334276287287296  <a href=\"http://twitter.com/download/android\" ...   \n",
              "1269332511362109441  <a href=\"http://twitter.com/download/android\" ...   \n",
              "1269332511362109441  <a href=\"http://twitter.com/download/android\" ...   \n",
              "\n",
              "                                                     profile_image_url  \\\n",
              "id_str                                                                   \n",
              "1281604035506606080  http://pbs.twimg.com/profile_images/1279424686...   \n",
              "1281048883578077185  http://pbs.twimg.com/profile_images/1279237367...   \n",
              "1280902480461615106  http://pbs.twimg.com/profile_images/1263348467...   \n",
              "1280345217271357440  http://pbs.twimg.com/profile_images/6659580228...   \n",
              "1280304124207091714  http://pbs.twimg.com/profile_images/1264913233...   \n",
              "...                                                                ...   \n",
              "1269398002931650560  http://pbs.twimg.com/profile_images/9598923436...   \n",
              "1269369617945788418  http://pbs.twimg.com/profile_images/1069254890...   \n",
              "1269334276287287296  http://pbs.twimg.com/profile_images/1259675553...   \n",
              "1269332511362109441  http://pbs.twimg.com/profile_images/1137946823...   \n",
              "1269332511362109441  http://pbs.twimg.com/profile_images/1137946823...   \n",
              "\n",
              "                     user_followers_count  user_friends_count  \\\n",
              "id_str                                                          \n",
              "1281604035506606080                 14828                7943   \n",
              "1281048883578077185                   570                1965   \n",
              "1280902480461615106                  2661                1063   \n",
              "1280345217271357440                 48160               48643   \n",
              "1280304124207091714                    90                 231   \n",
              "...                                   ...                 ...   \n",
              "1269398002931650560                  6168                1202   \n",
              "1269369617945788418                  1300                2290   \n",
              "1269334276287287296                  1028                 735   \n",
              "1269332511362109441                  2464                4399   \n",
              "1269332511362109441                  2464                4399   \n",
              "\n",
              "                                   user_location  \\\n",
              "id_str                                             \n",
              "1281604035506606080                         <NA>   \n",
              "1281048883578077185         Ulaanbaatar Mongolia   \n",
              "1280902480461615106                     Mongolia   \n",
              "1280345217271357440        Ulaanbaatar, Mongolia   \n",
              "1280304124207091714                  Ulaanbaatar   \n",
              "...                                          ...   \n",
              "1269398002931650560  Vancouver, British Columbia   \n",
              "1269369617945788418                         <NA>   \n",
              "1269334276287287296                     Mongolia   \n",
              "1269332511362109441                  ulaanbaatar   \n",
              "1269332511362109441                  ulaanbaatar   \n",
              "\n",
              "                                                            status_url  \\\n",
              "id_str                                                                   \n",
              "1281604035506606080  http://twitter.com/ErdenebulganB/statuses/1281...   \n",
              "1281048883578077185  http://twitter.com/smartjirgee/statuses/128104...   \n",
              "1280902480461615106  http://twitter.com/enkhtemuulen/statuses/12809...   \n",
              "1280345217271357440  http://twitter.com/CoverMongolia/statuses/1280...   \n",
              "1280304124207091714  http://twitter.com/iaacmn/statuses/12803041242...   \n",
              "...                                                                ...   \n",
              "1269398002931650560  http://twitter.com/jdierkes/statuses/126939800...   \n",
              "1269369617945788418  http://twitter.com/chbudee/statuses/1269369617...   \n",
              "1269334276287287296  http://twitter.com/zaya_ari/statuses/126933427...   \n",
              "1269332511362109441  http://twitter.com/TTuguldur_CFC/statuses/1269...   \n",
              "1269332511362109441  http://twitter.com/TTuguldur_CFC/statuses/1269...   \n",
              "\n",
              "                                                          entities_str  \\\n",
              "id_str                                                                   \n",
              "1281604035506606080  {\"hashtags\":[{\"text\":\"УИХ\",\"indices\":[10,14]},...   \n",
              "1281048883578077185  {\"hashtags\":[],\"symbols\":[],\"user_mentions\":[{...   \n",
              "1280902480461615106  {\"hashtags\":[{\"text\":\"сонгууль2020\",\"indices\":...   \n",
              "1280345217271357440  {\"hashtags\":[],\"symbols\":[],\"user_mentions\":[{...   \n",
              "1280304124207091714  {\"hashtags\":[{\"text\":\"Сүлд\",\"indices\":[31,36]}...   \n",
              "...                                                                ...   \n",
              "1269398002931650560  {\"hashtags\":[{\"text\":\"Сонгууль2020\",\"indices\":...   \n",
              "1269369617945788418  {\"hashtags\":[{\"text\":\"Сонгууль2020\",\"indices\":...   \n",
              "1269334276287287296  {\"hashtags\":[{\"text\":\"Сонгууль2020\",\"indices\":...   \n",
              "1269332511362109441  {\"hashtags\":[{\"text\":\"Цуйван\",\"indices\":[0,7]}...   \n",
              "1269332511362109441  {\"hashtags\":[{\"text\":\"Цуйван\",\"indices\":[0,7]}...   \n",
              "\n",
              "                          created_at_datetime           source_txt  \n",
              "id_str                                                              \n",
              "1281604035506606080 2020-07-10 14:59:47+00:00      Twitter Web App  \n",
              "1281048883578077185 2020-07-09 02:13:49+00:00   Twitter for iPhone  \n",
              "1280902480461615106 2020-07-08 16:32:04+00:00     Twitter for iPad  \n",
              "1280345217271357440 2020-07-07 03:37:42+00:00      Twitter Web App  \n",
              "1280304124207091714 2020-07-07 00:54:24+00:00      Twitter Web App  \n",
              "...                                       ...                  ...  \n",
              "1269398002931650560 2020-06-06 22:37:22+00:00      Twitter Web App  \n",
              "1269369617945788418 2020-06-06 20:44:35+00:00  Twitter for Android  \n",
              "1269334276287287296 2020-06-06 18:24:09+00:00  Twitter for Android  \n",
              "1269332511362109441 2020-06-06 18:17:08+00:00  Twitter for Android  \n",
              "1269332511362109441 2020-06-06 18:17:08+00:00  Twitter for Android  \n",
              "\n",
              "[4975 rows x 14 columns]"
            ]
          },
          "execution_count": 19,
          "metadata": {},
          "output_type": "execute_result"
        }
      ],
      "source": [
        "df"
      ]
    },
    {
      "cell_type": "code",
      "execution_count": 20,
      "metadata": {
        "colab": {
          "base_uri": "https://localhost:8080/"
        },
        "id": "UTXZY3acRQw2",
        "outputId": "18a8b32e-d4fc-4b2e-e1a0-0c9d90871f9f"
      },
      "outputs": [
        {
          "data": {
            "text/plain": [
              "Twitter for iPhone      0.411256\n",
              "Twitter for Android     0.800603\n",
              "Twitter Web App         0.972663\n",
              "Twitter for iPad        0.984925\n",
              "TweetDeck               0.993166\n",
              "botmn                   0.997186\n",
              "Hatena Blog / はてなブログ    0.998392\n",
              "SocialFlow              0.998995\n",
              "Tweetbot for iΟS        0.999196\n",
              "Twidere for Android     0.999397\n",
              "IFTTT                   0.999598\n",
              "RRasdasdasdas           0.999799\n",
              "Instagram               1.000000\n",
              "Name: source_txt, dtype: float64"
            ]
          },
          "execution_count": 20,
          "metadata": {},
          "output_type": "execute_result"
        }
      ],
      "source": [
        "df.source_txt.value_counts().cumsum() / len(df)"
      ]
    },
    {
      "cell_type": "code",
      "execution_count": 21,
      "metadata": {
        "colab": {
          "base_uri": "https://localhost:8080/"
        },
        "id": "EaglfmwvRQw2",
        "outputId": "eb836cd0-ba5a-49f3-ffb1-515d65618a2b"
      },
      "outputs": [
        {
          "data": {
            "text/plain": [
              "Mongolia                       1139\n",
              "Ulaanbaatar, Mongolia           395\n",
              "Ulaanbaatar                     229\n",
              "Vancouver, British Columbia      88\n",
              "Улаанбаатар                      82\n",
              "                               ... \n",
              "монгол улс                        1\n",
              "Mongolia.UB                       1\n",
              "Don't try.                        1\n",
              "Улаанбаатар                       1\n",
              "Монголия                          1\n",
              "Name: user_location, Length: 343, dtype: Int64"
            ]
          },
          "execution_count": 21,
          "metadata": {},
          "output_type": "execute_result"
        }
      ],
      "source": [
        "df['user_location'].value_counts()"
      ]
    },
    {
      "cell_type": "code",
      "execution_count": 22,
      "metadata": {
        "colab": {
          "base_uri": "https://localhost:8080/"
        },
        "id": "ZcOZzRGhRQw3",
        "outputId": "b6c82a4e-35fd-4e4f-900f-140174c44b6f"
      },
      "outputs": [
        {
          "data": {
            "text/plain": [
              "<StringArray>\n",
              "[                            <NA>,           'Ulaanbaatar Mongolia',\n",
              "                       'Mongolia',          'Ulaanbaatar, Mongolia',\n",
              "                    'Ulaanbaatar',                     'London, UK',\n",
              "            'Ulaanbaatar, Huhhot', 'My very personal views & ideas',\n",
              "    'Vancouver, British Columbia',                    'ulaanbaatar',\n",
              " ...\n",
              "                       'anywhere',                    'Mongolia.UB',\n",
              "    'Ulaanbaatar city, Mongolia ',            'UB, London, Geneve,',\n",
              "                   'Tel 90116343',                        'Steppes',\n",
              "             'Дорноговь Сайншанд',          'Mongolia Ulaanbaatar ',\n",
              "                  'Paris, France',                            'Sky']\n",
              "Length: 344, dtype: string"
            ]
          },
          "execution_count": 22,
          "metadata": {},
          "output_type": "execute_result"
        }
      ],
      "source": [
        "df['user_location'].unique()"
      ]
    },
    {
      "cell_type": "code",
      "execution_count": 23,
      "metadata": {
        "colab": {
          "base_uri": "https://localhost:8080/"
        },
        "id": "R-lt6tFhRQw4",
        "outputId": "8cb40249-3d86-406a-99ec-7e1e7a59b872"
      },
      "outputs": [
        {
          "data": {
            "text/plain": [
              "0.29969849246231156"
            ]
          },
          "execution_count": 23,
          "metadata": {},
          "output_type": "execute_result"
        }
      ],
      "source": [
        "df['user_location'].isnull().mean()"
      ]
    },
    {
      "cell_type": "code",
      "execution_count": 24,
      "metadata": {
        "colab": {
          "base_uri": "https://localhost:8080/",
          "height": 810
        },
        "id": "zFVr8OJjRQw4",
        "outputId": "ed0dc1ec-386b-49eb-ff34-ff7fdd117a42",
        "scrolled": false
      },
      "outputs": [
        {
          "data": {
            "text/html": [
              "<div>\n",
              "<style scoped>\n",
              "    .dataframe tbody tr th:only-of-type {\n",
              "        vertical-align: middle;\n",
              "    }\n",
              "\n",
              "    .dataframe tbody tr th {\n",
              "        vertical-align: top;\n",
              "    }\n",
              "\n",
              "    .dataframe thead th {\n",
              "        text-align: right;\n",
              "    }\n",
              "</style>\n",
              "<table border=\"1\" class=\"dataframe\">\n",
              "  <thead>\n",
              "    <tr style=\"text-align: right;\">\n",
              "      <th></th>\n",
              "      <th>from_user</th>\n",
              "      <th>text</th>\n",
              "      <th>created_at</th>\n",
              "      <th>time</th>\n",
              "      <th>from_user_id_str</th>\n",
              "      <th>source</th>\n",
              "      <th>profile_image_url</th>\n",
              "      <th>user_followers_count</th>\n",
              "      <th>user_friends_count</th>\n",
              "      <th>user_location</th>\n",
              "      <th>status_url</th>\n",
              "      <th>entities_str</th>\n",
              "      <th>created_at_datetime</th>\n",
              "      <th>source_txt</th>\n",
              "    </tr>\n",
              "    <tr>\n",
              "      <th>id_str</th>\n",
              "      <th></th>\n",
              "      <th></th>\n",
              "      <th></th>\n",
              "      <th></th>\n",
              "      <th></th>\n",
              "      <th></th>\n",
              "      <th></th>\n",
              "      <th></th>\n",
              "      <th></th>\n",
              "      <th></th>\n",
              "      <th></th>\n",
              "      <th></th>\n",
              "      <th></th>\n",
              "      <th></th>\n",
              "    </tr>\n",
              "  </thead>\n",
              "  <tbody>\n",
              "    <tr>\n",
              "      <th>1281604035506606080</th>\n",
              "      <td>ErdenebulganB</td>\n",
              "      <td>65 vs. 62\n",
              "#УИХ #МАН #суперолонх #УлсТөр\n",
              "#сонгу...</td>\n",
              "      <td>Fri Jul 10 14:59:47 +0000 2020</td>\n",
              "      <td>2020-07-10 15:59:47</td>\n",
              "      <td>1433166162</td>\n",
              "      <td>&lt;a href=\"https://mobile.twitter.com\" rel=\"nofo...</td>\n",
              "      <td>http://pbs.twimg.com/profile_images/1279424686...</td>\n",
              "      <td>14828</td>\n",
              "      <td>7943</td>\n",
              "      <td>&lt;NA&gt;</td>\n",
              "      <td>http://twitter.com/ErdenebulganB/statuses/1281...</td>\n",
              "      <td>{\"hashtags\":[{\"text\":\"УИХ\",\"indices\":[10,14]},...</td>\n",
              "      <td>2020-07-10 14:59:47+00:00</td>\n",
              "      <td>Twitter Web App</td>\n",
              "    </tr>\n",
              "    <tr>\n",
              "      <th>1280050710545981440</th>\n",
              "      <td>GalSukhbaatar</td>\n",
              "      <td>RT @altanalim: Халдашгүй байдлын д/х мэдэгдэл ...</td>\n",
              "      <td>Mon Jul 06 08:07:26 +0000 2020</td>\n",
              "      <td>2020-07-06 09:07:26</td>\n",
              "      <td>236392720</td>\n",
              "      <td>&lt;a href=\"https://mobile.twitter.com\" rel=\"nofo...</td>\n",
              "      <td>http://pbs.twimg.com/profile_images/1161576675...</td>\n",
              "      <td>1557</td>\n",
              "      <td>1595</td>\n",
              "      <td>&lt;NA&gt;</td>\n",
              "      <td>http://twitter.com/GalSukhbaatar/statuses/1280...</td>\n",
              "      <td>{\"hashtags\":[],\"symbols\":[],\"user_mentions\":[{...</td>\n",
              "      <td>2020-07-06 08:07:26+00:00</td>\n",
              "      <td>Twitter Web App</td>\n",
              "    </tr>\n",
              "    <tr>\n",
              "      <th>1279986817547120641</th>\n",
              "      <td>Puuujeee2</td>\n",
              "      <td>RT @jdierkes: MPP cld rely on 220k members to ...</td>\n",
              "      <td>Mon Jul 06 03:53:32 +0000 2020</td>\n",
              "      <td>2020-07-06 04:53:32</td>\n",
              "      <td>967805909069053952</td>\n",
              "      <td>&lt;a href=\"http://twitter.com/download/android\" ...</td>\n",
              "      <td>http://pbs.twimg.com/profile_images/1278374496...</td>\n",
              "      <td>87</td>\n",
              "      <td>165</td>\n",
              "      <td>&lt;NA&gt;</td>\n",
              "      <td>http://twitter.com/Puuujeee2/statuses/12799868...</td>\n",
              "      <td>{\"hashtags\":[],\"symbols\":[],\"user_mentions\":[{...</td>\n",
              "      <td>2020-07-06 03:53:32+00:00</td>\n",
              "      <td>Twitter for Android</td>\n",
              "    </tr>\n",
              "    <tr>\n",
              "      <th>1279985026549993472</th>\n",
              "      <td>enhtsetseg</td>\n",
              "      <td>RT @jdierkes: MPP cld rely on 220k members to ...</td>\n",
              "      <td>Mon Jul 06 03:46:25 +0000 2020</td>\n",
              "      <td>2020-07-06 04:46:25</td>\n",
              "      <td>68575439</td>\n",
              "      <td>&lt;a href=\"http://twitter.com/download/iphone\" r...</td>\n",
              "      <td>http://pbs.twimg.com/profile_images/2956321732...</td>\n",
              "      <td>2170</td>\n",
              "      <td>823</td>\n",
              "      <td>&lt;NA&gt;</td>\n",
              "      <td>http://twitter.com/enhtsetseg/statuses/1279985...</td>\n",
              "      <td>{\"hashtags\":[],\"symbols\":[],\"user_mentions\":[{...</td>\n",
              "      <td>2020-07-06 03:46:25+00:00</td>\n",
              "      <td>Twitter for iPhone</td>\n",
              "    </tr>\n",
              "    <tr>\n",
              "      <th>1279645512728064000</th>\n",
              "      <td>tsasmusus</td>\n",
              "      <td>RT @jdierkes: Most recent parliamentary electi...</td>\n",
              "      <td>Sun Jul 05 05:17:19 +0000 2020</td>\n",
              "      <td>2020-07-05 06:17:19</td>\n",
              "      <td>137652430</td>\n",
              "      <td>&lt;a href=\"http://twitter.com/download/iphone\" r...</td>\n",
              "      <td>http://pbs.twimg.com/profile_images/1187102734...</td>\n",
              "      <td>329</td>\n",
              "      <td>673</td>\n",
              "      <td>&lt;NA&gt;</td>\n",
              "      <td>http://twitter.com/tsasmusus/statuses/12796455...</td>\n",
              "      <td>{\"hashtags\":[{\"text\":\"Mongolia\",\"indices\":[52,...</td>\n",
              "      <td>2020-07-05 05:17:19+00:00</td>\n",
              "      <td>Twitter for iPhone</td>\n",
              "    </tr>\n",
              "    <tr>\n",
              "      <th>...</th>\n",
              "      <td>...</td>\n",
              "      <td>...</td>\n",
              "      <td>...</td>\n",
              "      <td>...</td>\n",
              "      <td>...</td>\n",
              "      <td>...</td>\n",
              "      <td>...</td>\n",
              "      <td>...</td>\n",
              "      <td>...</td>\n",
              "      <td>...</td>\n",
              "      <td>...</td>\n",
              "      <td>...</td>\n",
              "      <td>...</td>\n",
              "      <td>...</td>\n",
              "    </tr>\n",
              "    <tr>\n",
              "      <th>1269468026337816576</th>\n",
              "      <td>ulziitse</td>\n",
              "      <td>RT @ArdiinNam: МЭДЭГДЭЛ https://t.co/BNmf1KK8S...</td>\n",
              "      <td>Sun Jun 07 03:15:37 +0000 2020</td>\n",
              "      <td>2020-06-07 04:15:37</td>\n",
              "      <td>3747111980</td>\n",
              "      <td>&lt;a href=\"http://twitter.com/download/android\" ...</td>\n",
              "      <td>http://pbs.twimg.com/profile_images/1264934332...</td>\n",
              "      <td>9927</td>\n",
              "      <td>3824</td>\n",
              "      <td>&lt;NA&gt;</td>\n",
              "      <td>http://twitter.com/ulziitse/statuses/126946802...</td>\n",
              "      <td>{\"hashtags\":[{\"text\":\"Сонгууль2020\",\"indices\":...</td>\n",
              "      <td>2020-06-07 03:15:37+00:00</td>\n",
              "      <td>Twitter for Android</td>\n",
              "    </tr>\n",
              "    <tr>\n",
              "      <th>1269465967991504896</th>\n",
              "      <td>tserenpuntsagt</td>\n",
              "      <td>Өчигдөр лагер дээр гал түлэхэд хэрэг болсон нэ...</td>\n",
              "      <td>Sun Jun 07 03:07:26 +0000 2020</td>\n",
              "      <td>2020-06-07 04:07:26</td>\n",
              "      <td>1339550076</td>\n",
              "      <td>&lt;a href=\"http://twitter.com/download/android\" ...</td>\n",
              "      <td>http://pbs.twimg.com/profile_images/1251843646...</td>\n",
              "      <td>1233</td>\n",
              "      <td>1298</td>\n",
              "      <td>&lt;NA&gt;</td>\n",
              "      <td>http://twitter.com/tserenpuntsagt/statuses/126...</td>\n",
              "      <td>{\"hashtags\":[{\"text\":\"сонгууль2020\",\"indices\":...</td>\n",
              "      <td>2020-06-07 03:07:26+00:00</td>\n",
              "      <td>Twitter for Android</td>\n",
              "    </tr>\n",
              "    <tr>\n",
              "      <th>1269453468818759687</th>\n",
              "      <td>TuulZav</td>\n",
              "      <td>RT @oyunsuren: Эрдэмд оройгүй гэдэг. Ийм биеэ ...</td>\n",
              "      <td>Sun Jun 07 02:17:46 +0000 2020</td>\n",
              "      <td>2020-06-07 03:17:46</td>\n",
              "      <td>3289666861</td>\n",
              "      <td>&lt;a href=\"http://twitter.com/download/android\" ...</td>\n",
              "      <td>http://pbs.twimg.com/profile_images/6245177834...</td>\n",
              "      <td>4637</td>\n",
              "      <td>5073</td>\n",
              "      <td>&lt;NA&gt;</td>\n",
              "      <td>http://twitter.com/TuulZav/statuses/1269453468...</td>\n",
              "      <td>{\"hashtags\":[{\"text\":\"Сонгууль2020\",\"indices\":...</td>\n",
              "      <td>2020-06-07 02:17:46+00:00</td>\n",
              "      <td>Twitter for Android</td>\n",
              "    </tr>\n",
              "    <tr>\n",
              "      <th>1269403302497669120</th>\n",
              "      <td>Burma0315</td>\n",
              "      <td>RT @ArdiinNam: Увс аймгийн иргэд, сонгогчид #М...</td>\n",
              "      <td>Sat Jun 06 22:58:26 +0000 2020</td>\n",
              "      <td>2020-06-06 23:58:26</td>\n",
              "      <td>3254174084</td>\n",
              "      <td>&lt;a href=\"http://twitter.com/download/android\" ...</td>\n",
              "      <td>http://pbs.twimg.com/profile_images/1088437128...</td>\n",
              "      <td>4452</td>\n",
              "      <td>4754</td>\n",
              "      <td>&lt;NA&gt;</td>\n",
              "      <td>http://twitter.com/Burma0315/statuses/12694033...</td>\n",
              "      <td>{\"hashtags\":[{\"text\":\"МАН\",\"indices\":[44,48]},...</td>\n",
              "      <td>2020-06-06 22:58:26+00:00</td>\n",
              "      <td>Twitter for Android</td>\n",
              "    </tr>\n",
              "    <tr>\n",
              "      <th>1269369617945788418</th>\n",
              "      <td>chbudee</td>\n",
              "      <td>Нөгөө өндөгнүүдийг унагааж бгаа бичлэг нь бас ...</td>\n",
              "      <td>Sat Jun 06 20:44:35 +0000 2020</td>\n",
              "      <td>2020-06-06 21:44:35</td>\n",
              "      <td>610515084</td>\n",
              "      <td>&lt;a href=\"http://twitter.com/download/android\" ...</td>\n",
              "      <td>http://pbs.twimg.com/profile_images/1069254890...</td>\n",
              "      <td>1300</td>\n",
              "      <td>2290</td>\n",
              "      <td>&lt;NA&gt;</td>\n",
              "      <td>http://twitter.com/chbudee/statuses/1269369617...</td>\n",
              "      <td>{\"hashtags\":[{\"text\":\"Сонгууль2020\",\"indices\":...</td>\n",
              "      <td>2020-06-06 20:44:35+00:00</td>\n",
              "      <td>Twitter for Android</td>\n",
              "    </tr>\n",
              "  </tbody>\n",
              "</table>\n",
              "<p>1491 rows × 14 columns</p>\n",
              "</div>"
            ],
            "text/plain": [
              "                          from_user  \\\n",
              "id_str                                \n",
              "1281604035506606080   ErdenebulganB   \n",
              "1280050710545981440   GalSukhbaatar   \n",
              "1279986817547120641       Puuujeee2   \n",
              "1279985026549993472      enhtsetseg   \n",
              "1279645512728064000       tsasmusus   \n",
              "...                             ...   \n",
              "1269468026337816576        ulziitse   \n",
              "1269465967991504896  tserenpuntsagt   \n",
              "1269453468818759687         TuulZav   \n",
              "1269403302497669120       Burma0315   \n",
              "1269369617945788418         chbudee   \n",
              "\n",
              "                                                                  text  \\\n",
              "id_str                                                                   \n",
              "1281604035506606080  65 vs. 62\n",
              "#УИХ #МАН #суперолонх #УлсТөр\n",
              "#сонгу...   \n",
              "1280050710545981440  RT @altanalim: Халдашгүй байдлын д/х мэдэгдэл ...   \n",
              "1279986817547120641  RT @jdierkes: MPP cld rely on 220k members to ...   \n",
              "1279985026549993472  RT @jdierkes: MPP cld rely on 220k members to ...   \n",
              "1279645512728064000  RT @jdierkes: Most recent parliamentary electi...   \n",
              "...                                                                ...   \n",
              "1269468026337816576  RT @ArdiinNam: МЭДЭГДЭЛ https://t.co/BNmf1KK8S...   \n",
              "1269465967991504896  Өчигдөр лагер дээр гал түлэхэд хэрэг болсон нэ...   \n",
              "1269453468818759687  RT @oyunsuren: Эрдэмд оройгүй гэдэг. Ийм биеэ ...   \n",
              "1269403302497669120  RT @ArdiinNam: Увс аймгийн иргэд, сонгогчид #М...   \n",
              "1269369617945788418  Нөгөө өндөгнүүдийг унагааж бгаа бичлэг нь бас ...   \n",
              "\n",
              "                                         created_at                time  \\\n",
              "id_str                                                                    \n",
              "1281604035506606080  Fri Jul 10 14:59:47 +0000 2020 2020-07-10 15:59:47   \n",
              "1280050710545981440  Mon Jul 06 08:07:26 +0000 2020 2020-07-06 09:07:26   \n",
              "1279986817547120641  Mon Jul 06 03:53:32 +0000 2020 2020-07-06 04:53:32   \n",
              "1279985026549993472  Mon Jul 06 03:46:25 +0000 2020 2020-07-06 04:46:25   \n",
              "1279645512728064000  Sun Jul 05 05:17:19 +0000 2020 2020-07-05 06:17:19   \n",
              "...                                             ...                 ...   \n",
              "1269468026337816576  Sun Jun 07 03:15:37 +0000 2020 2020-06-07 04:15:37   \n",
              "1269465967991504896  Sun Jun 07 03:07:26 +0000 2020 2020-06-07 04:07:26   \n",
              "1269453468818759687  Sun Jun 07 02:17:46 +0000 2020 2020-06-07 03:17:46   \n",
              "1269403302497669120  Sat Jun 06 22:58:26 +0000 2020 2020-06-06 23:58:26   \n",
              "1269369617945788418  Sat Jun 06 20:44:35 +0000 2020 2020-06-06 21:44:35   \n",
              "\n",
              "                       from_user_id_str  \\\n",
              "id_str                                    \n",
              "1281604035506606080          1433166162   \n",
              "1280050710545981440           236392720   \n",
              "1279986817547120641  967805909069053952   \n",
              "1279985026549993472            68575439   \n",
              "1279645512728064000           137652430   \n",
              "...                                 ...   \n",
              "1269468026337816576          3747111980   \n",
              "1269465967991504896          1339550076   \n",
              "1269453468818759687          3289666861   \n",
              "1269403302497669120          3254174084   \n",
              "1269369617945788418           610515084   \n",
              "\n",
              "                                                                source  \\\n",
              "id_str                                                                   \n",
              "1281604035506606080  <a href=\"https://mobile.twitter.com\" rel=\"nofo...   \n",
              "1280050710545981440  <a href=\"https://mobile.twitter.com\" rel=\"nofo...   \n",
              "1279986817547120641  <a href=\"http://twitter.com/download/android\" ...   \n",
              "1279985026549993472  <a href=\"http://twitter.com/download/iphone\" r...   \n",
              "1279645512728064000  <a href=\"http://twitter.com/download/iphone\" r...   \n",
              "...                                                                ...   \n",
              "1269468026337816576  <a href=\"http://twitter.com/download/android\" ...   \n",
              "1269465967991504896  <a href=\"http://twitter.com/download/android\" ...   \n",
              "1269453468818759687  <a href=\"http://twitter.com/download/android\" ...   \n",
              "1269403302497669120  <a href=\"http://twitter.com/download/android\" ...   \n",
              "1269369617945788418  <a href=\"http://twitter.com/download/android\" ...   \n",
              "\n",
              "                                                     profile_image_url  \\\n",
              "id_str                                                                   \n",
              "1281604035506606080  http://pbs.twimg.com/profile_images/1279424686...   \n",
              "1280050710545981440  http://pbs.twimg.com/profile_images/1161576675...   \n",
              "1279986817547120641  http://pbs.twimg.com/profile_images/1278374496...   \n",
              "1279985026549993472  http://pbs.twimg.com/profile_images/2956321732...   \n",
              "1279645512728064000  http://pbs.twimg.com/profile_images/1187102734...   \n",
              "...                                                                ...   \n",
              "1269468026337816576  http://pbs.twimg.com/profile_images/1264934332...   \n",
              "1269465967991504896  http://pbs.twimg.com/profile_images/1251843646...   \n",
              "1269453468818759687  http://pbs.twimg.com/profile_images/6245177834...   \n",
              "1269403302497669120  http://pbs.twimg.com/profile_images/1088437128...   \n",
              "1269369617945788418  http://pbs.twimg.com/profile_images/1069254890...   \n",
              "\n",
              "                     user_followers_count  user_friends_count user_location  \\\n",
              "id_str                                                                        \n",
              "1281604035506606080                 14828                7943          <NA>   \n",
              "1280050710545981440                  1557                1595          <NA>   \n",
              "1279986817547120641                    87                 165          <NA>   \n",
              "1279985026549993472                  2170                 823          <NA>   \n",
              "1279645512728064000                   329                 673          <NA>   \n",
              "...                                   ...                 ...           ...   \n",
              "1269468026337816576                  9927                3824          <NA>   \n",
              "1269465967991504896                  1233                1298          <NA>   \n",
              "1269453468818759687                  4637                5073          <NA>   \n",
              "1269403302497669120                  4452                4754          <NA>   \n",
              "1269369617945788418                  1300                2290          <NA>   \n",
              "\n",
              "                                                            status_url  \\\n",
              "id_str                                                                   \n",
              "1281604035506606080  http://twitter.com/ErdenebulganB/statuses/1281...   \n",
              "1280050710545981440  http://twitter.com/GalSukhbaatar/statuses/1280...   \n",
              "1279986817547120641  http://twitter.com/Puuujeee2/statuses/12799868...   \n",
              "1279985026549993472  http://twitter.com/enhtsetseg/statuses/1279985...   \n",
              "1279645512728064000  http://twitter.com/tsasmusus/statuses/12796455...   \n",
              "...                                                                ...   \n",
              "1269468026337816576  http://twitter.com/ulziitse/statuses/126946802...   \n",
              "1269465967991504896  http://twitter.com/tserenpuntsagt/statuses/126...   \n",
              "1269453468818759687  http://twitter.com/TuulZav/statuses/1269453468...   \n",
              "1269403302497669120  http://twitter.com/Burma0315/statuses/12694033...   \n",
              "1269369617945788418  http://twitter.com/chbudee/statuses/1269369617...   \n",
              "\n",
              "                                                          entities_str  \\\n",
              "id_str                                                                   \n",
              "1281604035506606080  {\"hashtags\":[{\"text\":\"УИХ\",\"indices\":[10,14]},...   \n",
              "1280050710545981440  {\"hashtags\":[],\"symbols\":[],\"user_mentions\":[{...   \n",
              "1279986817547120641  {\"hashtags\":[],\"symbols\":[],\"user_mentions\":[{...   \n",
              "1279985026549993472  {\"hashtags\":[],\"symbols\":[],\"user_mentions\":[{...   \n",
              "1279645512728064000  {\"hashtags\":[{\"text\":\"Mongolia\",\"indices\":[52,...   \n",
              "...                                                                ...   \n",
              "1269468026337816576  {\"hashtags\":[{\"text\":\"Сонгууль2020\",\"indices\":...   \n",
              "1269465967991504896  {\"hashtags\":[{\"text\":\"сонгууль2020\",\"indices\":...   \n",
              "1269453468818759687  {\"hashtags\":[{\"text\":\"Сонгууль2020\",\"indices\":...   \n",
              "1269403302497669120  {\"hashtags\":[{\"text\":\"МАН\",\"indices\":[44,48]},...   \n",
              "1269369617945788418  {\"hashtags\":[{\"text\":\"Сонгууль2020\",\"indices\":...   \n",
              "\n",
              "                          created_at_datetime           source_txt  \n",
              "id_str                                                              \n",
              "1281604035506606080 2020-07-10 14:59:47+00:00      Twitter Web App  \n",
              "1280050710545981440 2020-07-06 08:07:26+00:00      Twitter Web App  \n",
              "1279986817547120641 2020-07-06 03:53:32+00:00  Twitter for Android  \n",
              "1279985026549993472 2020-07-06 03:46:25+00:00   Twitter for iPhone  \n",
              "1279645512728064000 2020-07-05 05:17:19+00:00   Twitter for iPhone  \n",
              "...                                       ...                  ...  \n",
              "1269468026337816576 2020-06-07 03:15:37+00:00  Twitter for Android  \n",
              "1269465967991504896 2020-06-07 03:07:26+00:00  Twitter for Android  \n",
              "1269453468818759687 2020-06-07 02:17:46+00:00  Twitter for Android  \n",
              "1269403302497669120 2020-06-06 22:58:26+00:00  Twitter for Android  \n",
              "1269369617945788418 2020-06-06 20:44:35+00:00  Twitter for Android  \n",
              "\n",
              "[1491 rows x 14 columns]"
            ]
          },
          "execution_count": 24,
          "metadata": {},
          "output_type": "execute_result"
        }
      ],
      "source": [
        "df[df['user_location'].isnull()]"
      ]
    },
    {
      "cell_type": "markdown",
      "metadata": {
        "id": "P_ECEajZRQw5"
      },
      "source": [
        "#### status_url\n",
        "\n",
        "`status_url` contains the same information as `from_user`"
      ]
    },
    {
      "cell_type": "code",
      "execution_count": 25,
      "metadata": {
        "colab": {
          "base_uri": "https://localhost:8080/"
        },
        "id": "c8k1Dp1IRQw6",
        "outputId": "b52eb34b-e364-4e00-a9c9-9194b1082aab"
      },
      "outputs": [
        {
          "data": {
            "text/plain": [
              "4975"
            ]
          },
          "execution_count": 25,
          "metadata": {},
          "output_type": "execute_result"
        }
      ],
      "source": [
        "(df['status_url'].str.split(r'\\/').apply(lambda x: x[3] if x else '') == df['from_user']).sum()"
      ]
    },
    {
      "cell_type": "code",
      "execution_count": 26,
      "metadata": {
        "id": "v-HFJmm1RQw7"
      },
      "outputs": [],
      "source": [
        "df.drop('status_url', axis=1, inplace=True)"
      ]
    },
    {
      "cell_type": "code",
      "execution_count": 27,
      "metadata": {
        "colab": {
          "base_uri": "https://localhost:8080/",
          "height": 459
        },
        "id": "GfdEToLdRQw7",
        "outputId": "d02abbf3-4f90-46a8-c48e-034c955cfb9c"
      },
      "outputs": [
        {
          "data": {
            "text/html": [
              "<div>\n",
              "<style scoped>\n",
              "    .dataframe tbody tr th:only-of-type {\n",
              "        vertical-align: middle;\n",
              "    }\n",
              "\n",
              "    .dataframe tbody tr th {\n",
              "        vertical-align: top;\n",
              "    }\n",
              "\n",
              "    .dataframe thead th {\n",
              "        text-align: right;\n",
              "    }\n",
              "</style>\n",
              "<table border=\"1\" class=\"dataframe\">\n",
              "  <thead>\n",
              "    <tr style=\"text-align: right;\">\n",
              "      <th></th>\n",
              "      <th>from_user</th>\n",
              "      <th>text</th>\n",
              "      <th>created_at</th>\n",
              "      <th>time</th>\n",
              "      <th>from_user_id_str</th>\n",
              "      <th>source</th>\n",
              "      <th>profile_image_url</th>\n",
              "      <th>user_followers_count</th>\n",
              "      <th>user_friends_count</th>\n",
              "      <th>user_location</th>\n",
              "      <th>entities_str</th>\n",
              "      <th>created_at_datetime</th>\n",
              "      <th>source_txt</th>\n",
              "    </tr>\n",
              "    <tr>\n",
              "      <th>id_str</th>\n",
              "      <th></th>\n",
              "      <th></th>\n",
              "      <th></th>\n",
              "      <th></th>\n",
              "      <th></th>\n",
              "      <th></th>\n",
              "      <th></th>\n",
              "      <th></th>\n",
              "      <th></th>\n",
              "      <th></th>\n",
              "      <th></th>\n",
              "      <th></th>\n",
              "      <th></th>\n",
              "    </tr>\n",
              "  </thead>\n",
              "  <tbody>\n",
              "    <tr>\n",
              "      <th>1281604035506606080</th>\n",
              "      <td>ErdenebulganB</td>\n",
              "      <td>65 vs. 62\n",
              "#УИХ #МАН #суперолонх #УлсТөр\n",
              "#сонгу...</td>\n",
              "      <td>Fri Jul 10 14:59:47 +0000 2020</td>\n",
              "      <td>2020-07-10 15:59:47</td>\n",
              "      <td>1433166162</td>\n",
              "      <td>&lt;a href=\"https://mobile.twitter.com\" rel=\"nofo...</td>\n",
              "      <td>http://pbs.twimg.com/profile_images/1279424686...</td>\n",
              "      <td>14828</td>\n",
              "      <td>7943</td>\n",
              "      <td>&lt;NA&gt;</td>\n",
              "      <td>{\"hashtags\":[{\"text\":\"УИХ\",\"indices\":[10,14]},...</td>\n",
              "      <td>2020-07-10 14:59:47+00:00</td>\n",
              "      <td>Twitter Web App</td>\n",
              "    </tr>\n",
              "    <tr>\n",
              "      <th>1281048883578077185</th>\n",
              "      <td>smartjirgee</td>\n",
              "      <td>RT @jdierkes: MPP cld rely on 220k members to ...</td>\n",
              "      <td>Thu Jul 09 02:13:49 +0000 2020</td>\n",
              "      <td>2020-07-09 03:13:49</td>\n",
              "      <td>1279233665608769538</td>\n",
              "      <td>&lt;a href=\"http://twitter.com/download/iphone\" r...</td>\n",
              "      <td>http://pbs.twimg.com/profile_images/1279237367...</td>\n",
              "      <td>570</td>\n",
              "      <td>1965</td>\n",
              "      <td>Ulaanbaatar Mongolia</td>\n",
              "      <td>{\"hashtags\":[],\"symbols\":[],\"user_mentions\":[{...</td>\n",
              "      <td>2020-07-09 02:13:49+00:00</td>\n",
              "      <td>Twitter for iPhone</td>\n",
              "    </tr>\n",
              "    <tr>\n",
              "      <th>1280902480461615106</th>\n",
              "      <td>enkhtemuulen</td>\n",
              "      <td>У нас тоже #сонгууль2020 😂 https://t.co/90294p...</td>\n",
              "      <td>Wed Jul 08 16:32:04 +0000 2020</td>\n",
              "      <td>2020-07-08 17:32:04</td>\n",
              "      <td>132748835</td>\n",
              "      <td>&lt;a href=\"http://twitter.com/#!/download/ipad\" ...</td>\n",
              "      <td>http://pbs.twimg.com/profile_images/1263348467...</td>\n",
              "      <td>2661</td>\n",
              "      <td>1063</td>\n",
              "      <td>Mongolia</td>\n",
              "      <td>{\"hashtags\":[{\"text\":\"сонгууль2020\",\"indices\":...</td>\n",
              "      <td>2020-07-08 16:32:04+00:00</td>\n",
              "      <td>Twitter for iPad</td>\n",
              "    </tr>\n",
              "    <tr>\n",
              "      <th>1280345217271357440</th>\n",
              "      <td>CoverMongolia</td>\n",
              "      <td>RT @jdierkes: MPP cld rely on 220k members to ...</td>\n",
              "      <td>Tue Jul 07 03:37:42 +0000 2020</td>\n",
              "      <td>2020-07-07 04:37:42</td>\n",
              "      <td>483486676</td>\n",
              "      <td>&lt;a href=\"https://mobile.twitter.com\" rel=\"nofo...</td>\n",
              "      <td>http://pbs.twimg.com/profile_images/6659580228...</td>\n",
              "      <td>48160</td>\n",
              "      <td>48643</td>\n",
              "      <td>Ulaanbaatar, Mongolia</td>\n",
              "      <td>{\"hashtags\":[],\"symbols\":[],\"user_mentions\":[{...</td>\n",
              "      <td>2020-07-07 03:37:42+00:00</td>\n",
              "      <td>Twitter Web App</td>\n",
              "    </tr>\n",
              "    <tr>\n",
              "      <th>1280304124207091714</th>\n",
              "      <td>iaacmn</td>\n",
              "      <td>RT @Batbayasgalan: Төрийн минь #Сүлд өршөө! 🇲🇳...</td>\n",
              "      <td>Tue Jul 07 00:54:24 +0000 2020</td>\n",
              "      <td>2020-07-07 01:54:24</td>\n",
              "      <td>1264912426937405440</td>\n",
              "      <td>&lt;a href=\"https://mobile.twitter.com\" rel=\"nofo...</td>\n",
              "      <td>http://pbs.twimg.com/profile_images/1264913233...</td>\n",
              "      <td>90</td>\n",
              "      <td>231</td>\n",
              "      <td>Ulaanbaatar</td>\n",
              "      <td>{\"hashtags\":[{\"text\":\"Сүлд\",\"indices\":[31,36]}...</td>\n",
              "      <td>2020-07-07 00:54:24+00:00</td>\n",
              "      <td>Twitter Web App</td>\n",
              "    </tr>\n",
              "  </tbody>\n",
              "</table>\n",
              "</div>"
            ],
            "text/plain": [
              "                         from_user  \\\n",
              "id_str                               \n",
              "1281604035506606080  ErdenebulganB   \n",
              "1281048883578077185    smartjirgee   \n",
              "1280902480461615106   enkhtemuulen   \n",
              "1280345217271357440  CoverMongolia   \n",
              "1280304124207091714         iaacmn   \n",
              "\n",
              "                                                                  text  \\\n",
              "id_str                                                                   \n",
              "1281604035506606080  65 vs. 62\n",
              "#УИХ #МАН #суперолонх #УлсТөр\n",
              "#сонгу...   \n",
              "1281048883578077185  RT @jdierkes: MPP cld rely on 220k members to ...   \n",
              "1280902480461615106  У нас тоже #сонгууль2020 😂 https://t.co/90294p...   \n",
              "1280345217271357440  RT @jdierkes: MPP cld rely on 220k members to ...   \n",
              "1280304124207091714  RT @Batbayasgalan: Төрийн минь #Сүлд өршөө! 🇲🇳...   \n",
              "\n",
              "                                         created_at                time  \\\n",
              "id_str                                                                    \n",
              "1281604035506606080  Fri Jul 10 14:59:47 +0000 2020 2020-07-10 15:59:47   \n",
              "1281048883578077185  Thu Jul 09 02:13:49 +0000 2020 2020-07-09 03:13:49   \n",
              "1280902480461615106  Wed Jul 08 16:32:04 +0000 2020 2020-07-08 17:32:04   \n",
              "1280345217271357440  Tue Jul 07 03:37:42 +0000 2020 2020-07-07 04:37:42   \n",
              "1280304124207091714  Tue Jul 07 00:54:24 +0000 2020 2020-07-07 01:54:24   \n",
              "\n",
              "                        from_user_id_str  \\\n",
              "id_str                                     \n",
              "1281604035506606080           1433166162   \n",
              "1281048883578077185  1279233665608769538   \n",
              "1280902480461615106            132748835   \n",
              "1280345217271357440            483486676   \n",
              "1280304124207091714  1264912426937405440   \n",
              "\n",
              "                                                                source  \\\n",
              "id_str                                                                   \n",
              "1281604035506606080  <a href=\"https://mobile.twitter.com\" rel=\"nofo...   \n",
              "1281048883578077185  <a href=\"http://twitter.com/download/iphone\" r...   \n",
              "1280902480461615106  <a href=\"http://twitter.com/#!/download/ipad\" ...   \n",
              "1280345217271357440  <a href=\"https://mobile.twitter.com\" rel=\"nofo...   \n",
              "1280304124207091714  <a href=\"https://mobile.twitter.com\" rel=\"nofo...   \n",
              "\n",
              "                                                     profile_image_url  \\\n",
              "id_str                                                                   \n",
              "1281604035506606080  http://pbs.twimg.com/profile_images/1279424686...   \n",
              "1281048883578077185  http://pbs.twimg.com/profile_images/1279237367...   \n",
              "1280902480461615106  http://pbs.twimg.com/profile_images/1263348467...   \n",
              "1280345217271357440  http://pbs.twimg.com/profile_images/6659580228...   \n",
              "1280304124207091714  http://pbs.twimg.com/profile_images/1264913233...   \n",
              "\n",
              "                     user_followers_count  user_friends_count  \\\n",
              "id_str                                                          \n",
              "1281604035506606080                 14828                7943   \n",
              "1281048883578077185                   570                1965   \n",
              "1280902480461615106                  2661                1063   \n",
              "1280345217271357440                 48160               48643   \n",
              "1280304124207091714                    90                 231   \n",
              "\n",
              "                             user_location  \\\n",
              "id_str                                       \n",
              "1281604035506606080                   <NA>   \n",
              "1281048883578077185   Ulaanbaatar Mongolia   \n",
              "1280902480461615106               Mongolia   \n",
              "1280345217271357440  Ulaanbaatar, Mongolia   \n",
              "1280304124207091714            Ulaanbaatar   \n",
              "\n",
              "                                                          entities_str  \\\n",
              "id_str                                                                   \n",
              "1281604035506606080  {\"hashtags\":[{\"text\":\"УИХ\",\"indices\":[10,14]},...   \n",
              "1281048883578077185  {\"hashtags\":[],\"symbols\":[],\"user_mentions\":[{...   \n",
              "1280902480461615106  {\"hashtags\":[{\"text\":\"сонгууль2020\",\"indices\":...   \n",
              "1280345217271357440  {\"hashtags\":[],\"symbols\":[],\"user_mentions\":[{...   \n",
              "1280304124207091714  {\"hashtags\":[{\"text\":\"Сүлд\",\"indices\":[31,36]}...   \n",
              "\n",
              "                          created_at_datetime          source_txt  \n",
              "id_str                                                             \n",
              "1281604035506606080 2020-07-10 14:59:47+00:00     Twitter Web App  \n",
              "1281048883578077185 2020-07-09 02:13:49+00:00  Twitter for iPhone  \n",
              "1280902480461615106 2020-07-08 16:32:04+00:00    Twitter for iPad  \n",
              "1280345217271357440 2020-07-07 03:37:42+00:00     Twitter Web App  \n",
              "1280304124207091714 2020-07-07 00:54:24+00:00     Twitter Web App  "
            ]
          },
          "execution_count": 27,
          "metadata": {},
          "output_type": "execute_result"
        }
      ],
      "source": [
        "df.head()"
      ]
    },
    {
      "cell_type": "code",
      "execution_count": 28,
      "metadata": {
        "colab": {
          "base_uri": "https://localhost:8080/",
          "height": 419
        },
        "id": "ezXiOb3bRQw8",
        "outputId": "a5c18943-08f5-4709-f975-c7454f45d7ba"
      },
      "outputs": [
        {
          "data": {
            "text/html": [
              "<div>\n",
              "<style scoped>\n",
              "    .dataframe tbody tr th:only-of-type {\n",
              "        vertical-align: middle;\n",
              "    }\n",
              "\n",
              "    .dataframe tbody tr th {\n",
              "        vertical-align: top;\n",
              "    }\n",
              "\n",
              "    .dataframe thead th {\n",
              "        text-align: right;\n",
              "    }\n",
              "</style>\n",
              "<table border=\"1\" class=\"dataframe\">\n",
              "  <thead>\n",
              "    <tr style=\"text-align: right;\">\n",
              "      <th></th>\n",
              "      <th>user_location</th>\n",
              "      <th>count</th>\n",
              "    </tr>\n",
              "  </thead>\n",
              "  <tbody>\n",
              "    <tr>\n",
              "      <th>87</th>\n",
              "      <td>Mongolia</td>\n",
              "      <td>1139</td>\n",
              "    </tr>\n",
              "    <tr>\n",
              "      <th>217</th>\n",
              "      <td>Ulaanbaatar, Mongolia</td>\n",
              "      <td>395</td>\n",
              "    </tr>\n",
              "    <tr>\n",
              "      <th>203</th>\n",
              "      <td>Ulaanbaatar</td>\n",
              "      <td>229</td>\n",
              "    </tr>\n",
              "    <tr>\n",
              "      <th>232</th>\n",
              "      <td>Vancouver, British Columbia</td>\n",
              "      <td>88</td>\n",
              "    </tr>\n",
              "    <tr>\n",
              "      <th>302</th>\n",
              "      <td>Улаанбаатар</td>\n",
              "      <td>82</td>\n",
              "    </tr>\n",
              "    <tr>\n",
              "      <th>...</th>\n",
              "      <td>...</td>\n",
              "      <td>...</td>\n",
              "    </tr>\n",
              "    <tr>\n",
              "      <th>108</th>\n",
              "      <td>Mongolia. Ulaanbaatar</td>\n",
              "      <td>1</td>\n",
              "    </tr>\n",
              "    <tr>\n",
              "      <th>104</th>\n",
              "      <td>Mongolia,Erdenet city</td>\n",
              "      <td>1</td>\n",
              "    </tr>\n",
              "    <tr>\n",
              "      <th>228</th>\n",
              "      <td>United Mongolian Nation</td>\n",
              "      <td>1</td>\n",
              "    </tr>\n",
              "    <tr>\n",
              "      <th>101</th>\n",
              "      <td>Mongolia, Singapore</td>\n",
              "      <td>1</td>\n",
              "    </tr>\n",
              "    <tr>\n",
              "      <th>0</th>\n",
              "      <td>Hong Kong</td>\n",
              "      <td>1</td>\n",
              "    </tr>\n",
              "  </tbody>\n",
              "</table>\n",
              "<p>343 rows × 2 columns</p>\n",
              "</div>"
            ],
            "text/plain": [
              "                   user_location  count\n",
              "87                      Mongolia   1139\n",
              "217        Ulaanbaatar, Mongolia    395\n",
              "203                  Ulaanbaatar    229\n",
              "232  Vancouver, British Columbia     88\n",
              "302                  Улаанбаатар     82\n",
              "..                           ...    ...\n",
              "108       Mongolia. Ulaanbaatar       1\n",
              "104        Mongolia,Erdenet city      1\n",
              "228      United Mongolian Nation      1\n",
              "101          Mongolia, Singapore      1\n",
              "0                     Hong Kong       1\n",
              "\n",
              "[343 rows x 2 columns]"
            ]
          },
          "execution_count": 28,
          "metadata": {},
          "output_type": "execute_result"
        }
      ],
      "source": [
        "df.groupby(['user_location']).size().reset_index(name='count').sort_values(['count'], ascending=False)\n"
      ]
    },
    {
      "cell_type": "markdown",
      "metadata": {
        "id": "e-7EmHC1qXyM"
      },
      "source": [
        "### Basic EDA"
      ]
    },
    {
      "cell_type": "code",
      "execution_count": 29,
      "metadata": {
        "colab": {
          "base_uri": "https://localhost:8080/",
          "height": 331
        },
        "id": "m34Dd58TqW0k",
        "outputId": "bd45ae06-62c6-4b65-be2e-bd3cb5b7f4cc"
      },
      "outputs": [
        {
          "data": {
            "image/png": "[encoded data removed]",
            "text/plain": [
              "<Figure size 432x288 with 1 Axes>"
            ]
          },
          "metadata": {
            "needs_background": "light"
          },
          "output_type": "display_data"
        }
      ],
      "source": [
        "boxplot = df.boxplot(column=['user_followers_count', 'user_friends_count'])"
      ]
    },
    {
      "cell_type": "markdown",
      "metadata": {
        "id": "CHbzBzBHq0qj"
      },
      "source": [
        "Outliers exist"
      ]
    },
    {
      "cell_type": "code",
      "execution_count": 30,
      "metadata": {
        "colab": {
          "base_uri": "https://localhost:8080/",
          "height": 320
        },
        "id": "BRxhJmasq4Ww",
        "outputId": "7cf7b0b1-e79a-4358-90da-54f1313d5a48"
      },
      "outputs": [
        {
          "data": {
            "image/png": "[encoded data removed]",
            "text/plain": [
              "<Figure size 432x288 with 1 Axes>"
            ]
          },
          "metadata": {
            "needs_background": "light"
          },
          "output_type": "display_data"
        }
      ],
      "source": [
        "boxplot = df.boxplot(column=['user_followers_count', 'user_friends_count'], showfliers=False)"
      ]
    },
    {
      "cell_type": "markdown",
      "metadata": {
        "id": "HPpIbI-9rToA"
      },
      "source": [
        "Larger range for user_followers_count"
      ]
    },
    {
      "cell_type": "markdown",
      "metadata": {
        "id": "RvN3Y5cJe5zD"
      },
      "source": [
        "# DP File"
      ]
    },
    {
      "cell_type": "markdown",
      "metadata": {
        "id": "gBIZAZpihyJs"
      },
      "source": [
        "### Basic Information"
      ]
    },
    {
      "cell_type": "code",
      "execution_count": 31,
      "metadata": {
        "id": "S6_PsVZZfAdC"
      },
      "outputs": [],
      "source": [
        "df = pd.read_excel('Election2020_keyword.xlsx')\n",
        "df_dp = pd.read_excel('DP.xlsx')"
      ]
    },
    {
      "cell_type": "code",
      "execution_count": 32,
      "metadata": {
        "colab": {
          "base_uri": "https://localhost:8080/"
        },
        "id": "RFwwudVKfH77",
        "outputId": "214e68c9-0774-4e39-9202-5904f7eb534b"
      },
      "outputs": [
        {
          "data": {
            "text/plain": [
              "Index(['id_str', 'from_user', 'text', 'created_at', 'time', 'geo_coordinates',\n",
              "       'user_lang', 'in_reply_to_user_id_str', 'in_reply_to_screen_name',\n",
              "       'from_user_id_str', 'in_reply_to_status_id_str', 'source',\n",
              "       'profile_image_url', 'user_followers_count', 'user_friends_count',\n",
              "       'user_location', 'status_url', 'entities_str'],\n",
              "      dtype='object')"
            ]
          },
          "execution_count": 32,
          "metadata": {},
          "output_type": "execute_result"
        }
      ],
      "source": [
        "df_dp.columns"
      ]
    },
    {
      "cell_type": "code",
      "execution_count": 33,
      "metadata": {
        "colab": {
          "base_uri": "https://localhost:8080/"
        },
        "id": "LiYLxfGbflTt",
        "outputId": "7ccc068e-5090-44c7-f30a-90fe7de36417"
      },
      "outputs": [
        {
          "data": {
            "text/plain": [
              "143028"
            ]
          },
          "execution_count": 33,
          "metadata": {},
          "output_type": "execute_result"
        }
      ],
      "source": [
        "df_dp.size"
      ]
    },
    {
      "cell_type": "markdown",
      "metadata": {
        "id": "upSHm4CIfOkb"
      },
      "source": [
        "Check if DP and Election2020_keyword excel sheets have the same columns."
      ]
    },
    {
      "cell_type": "code",
      "execution_count": 34,
      "metadata": {
        "colab": {
          "base_uri": "https://localhost:8080/"
        },
        "id": "XTjUplvBfKYq",
        "outputId": "c81f83da-8af1-4226-e37e-82c0138838be"
      },
      "outputs": [
        {
          "data": {
            "text/plain": [
              "True"
            ]
          },
          "execution_count": 34,
          "metadata": {},
          "output_type": "execute_result"
        }
      ],
      "source": [
        "all(df_dp.columns == df.columns)"
      ]
    },
    {
      "cell_type": "code",
      "execution_count": 35,
      "metadata": {
        "colab": {
          "base_uri": "https://localhost:8080/"
        },
        "id": "Wdj7FQaefZmz",
        "outputId": "6ac30147-72e8-4a13-d458-a28ef6328966"
      },
      "outputs": [
        {
          "data": {
            "text/plain": [
              "3744"
            ]
          },
          "execution_count": 35,
          "metadata": {},
          "output_type": "execute_result"
        }
      ],
      "source": [
        "len(df_dp.from_user.unique())"
      ]
    },
    {
      "cell_type": "markdown",
      "metadata": {
        "id": "RVUe_t-Jg6zZ"
      },
      "source": [
        "### Null"
      ]
    },
    {
      "cell_type": "code",
      "execution_count": 36,
      "metadata": {
        "colab": {
          "base_uri": "https://localhost:8080/"
        },
        "id": "qLnX_cunf5q5",
        "outputId": "db16edcd-0007-4902-9cfd-92759844cf2f"
      },
      "outputs": [
        {
          "data": {
            "text/plain": [
              "id_str                       0.000000\n",
              "from_user                    0.000000\n",
              "text                         0.000000\n",
              "created_at                   0.000000\n",
              "time                         0.000000\n",
              "geo_coordinates              0.999748\n",
              "user_lang                    1.000000\n",
              "in_reply_to_user_id_str      0.823685\n",
              "in_reply_to_screen_name      0.823685\n",
              "from_user_id_str             0.000000\n",
              "in_reply_to_status_id_str    0.824818\n",
              "source                       0.000000\n",
              "profile_image_url            0.000000\n",
              "user_followers_count         0.002014\n",
              "user_friends_count           0.001888\n",
              "user_location                0.415555\n",
              "status_url                   0.000000\n",
              "entities_str                 0.000000\n",
              "dtype: float64"
            ]
          },
          "execution_count": 36,
          "metadata": {},
          "output_type": "execute_result"
        }
      ],
      "source": [
        "df_dp.isnull().mean()"
      ]
    },
    {
      "cell_type": "code",
      "execution_count": 37,
      "metadata": {
        "id": "41WdYZbzggRj"
      },
      "outputs": [],
      "source": [
        "df_dp.drop(df_dp.columns[(df_dp.isnull().mean() > 0.8)], axis=1, inplace=True)"
      ]
    },
    {
      "cell_type": "code",
      "execution_count": 38,
      "metadata": {
        "colab": {
          "base_uri": "https://localhost:8080/"
        },
        "id": "e1wfO8B3gnpz",
        "outputId": "fce7968f-b96e-426d-d0da-b51fe72480b7"
      },
      "outputs": [
        {
          "data": {
            "text/plain": [
              "id_str                     0\n",
              "from_user                  0\n",
              "text                       0\n",
              "created_at                 0\n",
              "time                       0\n",
              "from_user_id_str           0\n",
              "source                     0\n",
              "profile_image_url          0\n",
              "user_followers_count      16\n",
              "user_friends_count        15\n",
              "user_location           3302\n",
              "status_url                 0\n",
              "entities_str               0\n",
              "dtype: int64"
            ]
          },
          "execution_count": 38,
          "metadata": {},
          "output_type": "execute_result"
        }
      ],
      "source": [
        "df_dp.isnull().sum()"
      ]
    },
    {
      "cell_type": "markdown",
      "metadata": {
        "id": "BpPyOZgdinDD"
      },
      "source": [
        "### Source Txt"
      ]
    },
    {
      "cell_type": "code",
      "execution_count": 39,
      "metadata": {
        "id": "K1r9ueoZg8zw"
      },
      "outputs": [],
      "source": [
        "df_dp['source_txt'] = df_dp.source.str.findall('\\>(.+)\\<').apply(lambda x: x[0] if x else '')"
      ]
    },
    {
      "cell_type": "code",
      "execution_count": 40,
      "metadata": {
        "colab": {
          "base_uri": "https://localhost:8080/"
        },
        "id": "F2G_teWehCz3",
        "outputId": "2b085819-adbe-4666-a84d-fcdea4d05fd0"
      },
      "outputs": [
        {
          "data": {
            "text/plain": [
              "Twitter for Android                3689\n",
              "Twitter for iPhone                 2523\n",
              "Twitter Web App                    1431\n",
              "Twitter for iPad                    157\n",
              "botmn                                57\n",
              "TweetDeck                            16\n",
              "IFTTT                                 8\n",
              "NovaPress Publisher                   7\n",
              "News.mn.mn                            6\n",
              "dlvr.it                               5\n",
              "WordPress.com                         5\n",
              "SEOLIT Publisher                      3\n",
              "Instagram                             3\n",
              "ksp1_add                              2\n",
              "SMMplanner                            2\n",
              "Turkarama Post                        2\n",
              "LiveJournal.com                       2\n",
              "Google                                2\n",
              "ikon CMS - auto tweet                 2\n",
              "WordGena_AutoPost                     2\n",
              "Buffer                                1\n",
              "Talon Android                         1\n",
              "NewsVLRu                              1\n",
              "shareOn5                              1\n",
              "Calend.ru for posting                 1\n",
              "Plume for Android                     1\n",
              "6tv                                   1\n",
              "beton2000.ru                          1\n",
              "Twitter Media Studio                  1\n",
              "TweetCaster for Android               1\n",
              "multilisting                          1\n",
              "Российская газета                     1\n",
              "Twitter for Mac                       1\n",
              "sportski.mk                           1\n",
              "Amplifr                               1\n",
              "Zapier.com                            1\n",
              "Fenix 2                               1\n",
              "Rapido                                1\n",
              "Національний промисловий портал       1\n",
              "ContentPosting                        1\n",
              "Tweetbot for Mac                      1\n",
              "Untappd                               1\n",
              "Name: source_txt, dtype: int64"
            ]
          },
          "execution_count": 40,
          "metadata": {},
          "output_type": "execute_result"
        }
      ],
      "source": [
        "df_dp.source_txt.value_counts()"
      ]
    },
    {
      "cell_type": "markdown",
      "metadata": {
        "id": "xB1acHVxhWIP"
      },
      "source": [
        "More sources than Election2020_keyword"
      ]
    },
    {
      "cell_type": "markdown",
      "metadata": {
        "id": "sQmUkSXQhdDG"
      },
      "source": [
        "### Basic EDA"
      ]
    },
    {
      "cell_type": "code",
      "execution_count": 41,
      "metadata": {
        "colab": {
          "base_uri": "https://localhost:8080/",
          "height": 331
        },
        "id": "G_5i0PbhhaDx",
        "outputId": "0c430f30-cebd-41e7-e078-e5b99921a3a2"
      },
      "outputs": [
        {
          "data": {
            "image/png": "[encoded data removed]",
            "text/plain": [
              "<Figure size 432x288 with 1 Axes>"
            ]
          },
          "metadata": {
            "needs_background": "light"
          },
          "output_type": "display_data"
        }
      ],
      "source": [
        "boxplot1 = df_dp.boxplot(column=['user_followers_count', 'user_friends_count'])"
      ]
    },
    {
      "cell_type": "markdown",
      "metadata": {
        "id": "D7Zv1lM8hmhC"
      },
      "source": [
        "Outliers exist espcially for user_foloowers_count"
      ]
    },
    {
      "cell_type": "code",
      "execution_count": 42,
      "metadata": {
        "colab": {
          "base_uri": "https://localhost:8080/",
          "height": 322
        },
        "id": "0P4zNyByhqnG",
        "outputId": "b2e79506-66a4-460c-9c7b-9283d4f948b7"
      },
      "outputs": [
        {
          "data": {
            "image/png": "[encoded data removed]",
            "text/plain": [
              "<Figure size 432x288 with 1 Axes>"
            ]
          },
          "metadata": {
            "needs_background": "light"
          },
          "output_type": "display_data"
        }
      ],
      "source": [
        "boxplot1 = df_dp.boxplot(column=['user_followers_count', 'user_friends_count'], showfliers=False)"
      ]
    },
    {
      "cell_type": "markdown",
      "metadata": {
        "id": "-at7PWnihuYq"
      },
      "source": [
        "# MPP File"
      ]
    },
    {
      "cell_type": "code",
      "execution_count": 43,
      "metadata": {
        "id": "mywvn0sShqxC"
      },
      "outputs": [],
      "source": [
        "df_mpp = pd.read_excel('MPP.xlsx')"
      ]
    },
    {
      "cell_type": "code",
      "execution_count": 44,
      "metadata": {
        "colab": {
          "base_uri": "https://localhost:8080/"
        },
        "id": "agz-EePth8x3",
        "outputId": "0b8052b2-2c93-42ac-8c79-6f9c4558fc46"
      },
      "outputs": [
        {
          "data": {
            "text/plain": [
              "Index(['id_str', 'from_user', 'text', 'created_at', 'time', 'geo_coordinates',\n",
              "       'user_lang', 'in_reply_to_user_id_str', 'in_reply_to_screen_name',\n",
              "       'from_user_id_str', 'in_reply_to_status_id_str', 'source',\n",
              "       'profile_image_url', 'user_followers_count', 'user_friends_count',\n",
              "       'user_location', 'status_url', 'entities_str'],\n",
              "      dtype='object')"
            ]
          },
          "execution_count": 44,
          "metadata": {},
          "output_type": "execute_result"
        }
      ],
      "source": [
        "df_mpp.columns"
      ]
    },
    {
      "cell_type": "code",
      "execution_count": 45,
      "metadata": {
        "colab": {
          "base_uri": "https://localhost:8080/"
        },
        "id": "FNaE4PMaiCmZ",
        "outputId": "c23cadfb-80fa-4f72-eeea-70108ddc98d1"
      },
      "outputs": [
        {
          "data": {
            "text/plain": [
              "146880"
            ]
          },
          "execution_count": 45,
          "metadata": {},
          "output_type": "execute_result"
        }
      ],
      "source": [
        "df_mpp.size"
      ]
    },
    {
      "cell_type": "markdown",
      "metadata": {
        "id": "-wq5FcyriKof"
      },
      "source": [
        "Same columns as the above two files"
      ]
    },
    {
      "cell_type": "code",
      "execution_count": 46,
      "metadata": {
        "colab": {
          "base_uri": "https://localhost:8080/"
        },
        "id": "5xA-V05NiHyI",
        "outputId": "d47e4aad-5f12-4df5-9275-cddd9373773d"
      },
      "outputs": [
        {
          "data": {
            "text/plain": [
              "True"
            ]
          },
          "execution_count": 46,
          "metadata": {},
          "output_type": "execute_result"
        }
      ],
      "source": [
        "all(df_mpp.columns == df.columns)"
      ]
    },
    {
      "cell_type": "code",
      "execution_count": 47,
      "metadata": {
        "colab": {
          "base_uri": "https://localhost:8080/"
        },
        "id": "an8wPCwriS3l",
        "outputId": "689135c0-f529-4dc2-93be-43ec44b3814c"
      },
      "outputs": [
        {
          "data": {
            "text/plain": [
              "2826"
            ]
          },
          "execution_count": 47,
          "metadata": {},
          "output_type": "execute_result"
        }
      ],
      "source": [
        "len(df_mpp.from_user.unique())"
      ]
    },
    {
      "cell_type": "markdown",
      "metadata": {
        "id": "yIM2--WviXVF"
      },
      "source": [
        "### Null"
      ]
    },
    {
      "cell_type": "code",
      "execution_count": 48,
      "metadata": {
        "colab": {
          "base_uri": "https://localhost:8080/"
        },
        "id": "XW_n_5BhiYZ1",
        "outputId": "49fa5481-985d-4b43-d2f5-96bedf04aa2e"
      },
      "outputs": [
        {
          "data": {
            "text/plain": [
              "id_str                       0.000000\n",
              "from_user                    0.000000\n",
              "text                         0.000000\n",
              "created_at                   0.000000\n",
              "time                         0.000000\n",
              "geo_coordinates              0.999755\n",
              "user_lang                    1.000000\n",
              "in_reply_to_user_id_str      0.825368\n",
              "in_reply_to_screen_name      0.825368\n",
              "from_user_id_str             0.000000\n",
              "in_reply_to_status_id_str    0.826471\n",
              "source                       0.000000\n",
              "profile_image_url            0.000000\n",
              "user_followers_count         0.001225\n",
              "user_friends_count           0.000735\n",
              "user_location                0.407353\n",
              "status_url                   0.000000\n",
              "entities_str                 0.000000\n",
              "dtype: float64"
            ]
          },
          "execution_count": 48,
          "metadata": {},
          "output_type": "execute_result"
        }
      ],
      "source": [
        "df_mpp.isnull().mean()"
      ]
    },
    {
      "cell_type": "code",
      "execution_count": 49,
      "metadata": {
        "id": "t20uuEekpMb0"
      },
      "outputs": [],
      "source": [
        "df_mpp.drop(df_mpp.columns[(df_mpp.isnull().mean() > 0.8)], axis=1, inplace=True)"
      ]
    },
    {
      "cell_type": "code",
      "execution_count": 50,
      "metadata": {
        "colab": {
          "base_uri": "https://localhost:8080/"
        },
        "id": "GlZcLVy8pVCM",
        "outputId": "0ebc9526-8a41-4431-cc30-2d7eff7a9c3c"
      },
      "outputs": [
        {
          "data": {
            "text/plain": [
              "id_str                     0\n",
              "from_user                  0\n",
              "text                       0\n",
              "created_at                 0\n",
              "time                       0\n",
              "from_user_id_str           0\n",
              "source                     0\n",
              "profile_image_url          0\n",
              "user_followers_count      10\n",
              "user_friends_count         6\n",
              "user_location           3324\n",
              "status_url                 0\n",
              "entities_str               0\n",
              "dtype: int64"
            ]
          },
          "execution_count": 50,
          "metadata": {},
          "output_type": "execute_result"
        }
      ],
      "source": [
        "df_mpp.isnull().sum()"
      ]
    },
    {
      "cell_type": "markdown",
      "metadata": {
        "id": "RecY0DilirlE"
      },
      "source": [
        "### Source Txt"
      ]
    },
    {
      "cell_type": "code",
      "execution_count": 51,
      "metadata": {
        "id": "zb8XuulTivOA"
      },
      "outputs": [],
      "source": [
        "df_mpp['source_txt'] = df_mpp.source.str.findall('\\>(.+)\\<').apply(lambda x: x[0] if x else '')"
      ]
    },
    {
      "cell_type": "code",
      "execution_count": 52,
      "metadata": {
        "colab": {
          "base_uri": "https://localhost:8080/"
        },
        "id": "Pu02Iuxqi1ct",
        "outputId": "e23cd7d3-fbef-4619-d251-db3e40523a93"
      },
      "outputs": [
        {
          "data": {
            "text/plain": [
              "Twitter for Android          3680\n",
              "Twitter for iPhone           3118\n",
              "Twitter Web App               989\n",
              "Twitter for iPad              159\n",
              "botmn                          68\n",
              "Sports.ru API                  63\n",
              "TweetDeck                      24\n",
              "WordPress.com                  11\n",
              "achtungpartisanen              11\n",
              "News.mn.mn                      7\n",
              "dlvr.it                         5\n",
              "IFTTT                           5\n",
              "TargetingS                      3\n",
              "ikon CMS - auto tweet           3\n",
              "Instagram                       3\n",
              "NovaPress Publisher             2\n",
              "Google                          2\n",
              "Amplifr                         1\n",
              "News sharing ua ukrinform       1\n",
              "POLIT NEWS                      1\n",
              "Flamingo for Android            1\n",
              "lfcrurepostnews                 1\n",
              "Шуурхай_tweet                   1\n",
              "SocialFlow                      1\n",
              "Name: source_txt, dtype: int64"
            ]
          },
          "execution_count": 52,
          "metadata": {},
          "output_type": "execute_result"
        }
      ],
      "source": [
        "df_mpp.source_txt.value_counts()"
      ]
    },
    {
      "cell_type": "markdown",
      "metadata": {
        "id": "JRk1cxqci5lM"
      },
      "source": [
        "More source than Election2020_keyword, and contains great amount of 1 in count"
      ]
    },
    {
      "cell_type": "markdown",
      "metadata": {
        "id": "fSdE6ZPCjICL"
      },
      "source": [
        "### Basic EDA"
      ]
    },
    {
      "cell_type": "code",
      "execution_count": 53,
      "metadata": {
        "colab": {
          "base_uri": "https://localhost:8080/",
          "height": 320
        },
        "id": "RONp9PggjBcx",
        "outputId": "e573e009-1bf9-4914-a49b-341490187ede"
      },
      "outputs": [
        {
          "data": {
            "image/png": "[encoded data removed]",
            "text/plain": [
              "<Figure size 432x288 with 1 Axes>"
            ]
          },
          "metadata": {
            "needs_background": "light"
          },
          "output_type": "display_data"
        }
      ],
      "source": [
        "boxplot2 = df_mpp.boxplot(column=['user_followers_count', 'user_friends_count'])"
      ]
    },
    {
      "cell_type": "markdown",
      "metadata": {
        "id": "Jts86sq8jKxI"
      },
      "source": [
        "Outliers exist form both columns"
      ]
    },
    {
      "cell_type": "code",
      "execution_count": 54,
      "metadata": {
        "colab": {
          "base_uri": "https://localhost:8080/",
          "height": 322
        },
        "id": "p7W7VUsqjNpx",
        "outputId": "3a8d1352-f664-4e19-bcdd-d40eb59346e7"
      },
      "outputs": [
        {
          "data": {
            "image/png": "[encoded data removed]",
            "text/plain": [
              "<Figure size 432x288 with 1 Axes>"
            ]
          },
          "metadata": {
            "needs_background": "light"
          },
          "output_type": "display_data"
        }
      ],
      "source": [
        "boxplot2 = df_mpp.boxplot(column=['user_followers_count', 'user_friends_count'], showfliers=False)"
      ]
    },
    {
      "cell_type": "markdown",
      "metadata": {
        "id": "4BUG2eM0jUau"
      },
      "source": [
        "# ZKH File"
      ]
    },
    {
      "cell_type": "code",
      "execution_count": 55,
      "metadata": {
        "id": "4om7pYA1jWnB"
      },
      "outputs": [],
      "source": [
        "df_zkh = pd.read_excel('ZKH.xlsx')"
      ]
    },
    {
      "cell_type": "code",
      "execution_count": 56,
      "metadata": {
        "colab": {
          "base_uri": "https://localhost:8080/"
        },
        "id": "4o9WadOTjbjJ",
        "outputId": "bfce581a-3175-4c9e-9d6e-cf3f0203b563"
      },
      "outputs": [
        {
          "data": {
            "text/plain": [
              "Index(['id_str', 'from_user', 'text', 'created_at', 'time', 'geo_coordinates',\n",
              "       'user_lang', 'in_reply_to_user_id_str', 'in_reply_to_screen_name',\n",
              "       'from_user_id_str', 'in_reply_to_status_id_str', 'source',\n",
              "       'profile_image_url', 'user_followers_count', 'user_friends_count',\n",
              "       'user_location', 'status_url', 'entities_str'],\n",
              "      dtype='object')"
            ]
          },
          "execution_count": 56,
          "metadata": {},
          "output_type": "execute_result"
        }
      ],
      "source": [
        "df_zkh.columns"
      ]
    },
    {
      "cell_type": "code",
      "execution_count": 57,
      "metadata": {
        "colab": {
          "base_uri": "https://localhost:8080/"
        },
        "id": "harj0V8pjkRJ",
        "outputId": "0e67eefe-149a-4977-b642-c19d9fcdf354"
      },
      "outputs": [
        {
          "data": {
            "text/plain": [
              "60228"
            ]
          },
          "execution_count": 57,
          "metadata": {},
          "output_type": "execute_result"
        }
      ],
      "source": [
        "df_zkh.size"
      ]
    },
    {
      "cell_type": "code",
      "execution_count": 58,
      "metadata": {
        "colab": {
          "base_uri": "https://localhost:8080/"
        },
        "id": "2k4yTOpCjmdg",
        "outputId": "f4895fc1-342c-4eec-bdd4-4c29fb6f7cc5"
      },
      "outputs": [
        {
          "data": {
            "text/plain": [
              "array([ True,  True,  True,  True,  True,  True,  True,  True,  True,\n",
              "        True,  True,  True,  True,  True,  True,  True,  True,  True])"
            ]
          },
          "execution_count": 58,
          "metadata": {},
          "output_type": "execute_result"
        }
      ],
      "source": [
        "df_zkh.columns == df.columns"
      ]
    },
    {
      "cell_type": "code",
      "execution_count": 59,
      "metadata": {
        "colab": {
          "base_uri": "https://localhost:8080/"
        },
        "id": "WZSW_tVhjrS7",
        "outputId": "42756278-c16c-451d-c425-c8466df359c2"
      },
      "outputs": [
        {
          "data": {
            "text/plain": [
              "1819"
            ]
          },
          "execution_count": 59,
          "metadata": {},
          "output_type": "execute_result"
        }
      ],
      "source": [
        "len(df_zkh.from_user.unique())"
      ]
    },
    {
      "cell_type": "markdown",
      "metadata": {
        "id": "TZ-3qX4QjyC2"
      },
      "source": [
        "### Null"
      ]
    },
    {
      "cell_type": "code",
      "execution_count": 60,
      "metadata": {
        "colab": {
          "base_uri": "https://localhost:8080/"
        },
        "id": "bSoe4lCbj0kJ",
        "outputId": "dd8d2e59-8a1d-4e02-b96f-e80f7ae0d9f4"
      },
      "outputs": [
        {
          "data": {
            "text/plain": [
              "id_str                       0.000000\n",
              "from_user                    0.000000\n",
              "text                         0.000000\n",
              "created_at                   0.000000\n",
              "time                         0.000000\n",
              "geo_coordinates              1.000000\n",
              "user_lang                    1.000000\n",
              "in_reply_to_user_id_str      0.853556\n",
              "in_reply_to_screen_name      0.853556\n",
              "from_user_id_str             0.000000\n",
              "in_reply_to_status_id_str    0.854154\n",
              "source                       0.000000\n",
              "profile_image_url            0.000000\n",
              "user_followers_count         0.001195\n",
              "user_friends_count           0.000000\n",
              "user_location                0.362821\n",
              "status_url                   0.000000\n",
              "entities_str                 0.000000\n",
              "dtype: float64"
            ]
          },
          "execution_count": 60,
          "metadata": {},
          "output_type": "execute_result"
        }
      ],
      "source": [
        "df_zkh.isnull().mean()"
      ]
    },
    {
      "cell_type": "code",
      "execution_count": 61,
      "metadata": {
        "id": "CizrHDo-qCrc"
      },
      "outputs": [],
      "source": [
        "df_zkh.drop(df_zkh.columns[(df_zkh.isnull().mean() > 0.8)], axis=1, inplace=True)"
      ]
    },
    {
      "cell_type": "code",
      "execution_count": 62,
      "metadata": {
        "colab": {
          "base_uri": "https://localhost:8080/"
        },
        "id": "0TxawAI6qJQc",
        "outputId": "5c9556f1-f162-47a0-de2c-06f1e4eb9338"
      },
      "outputs": [
        {
          "data": {
            "text/plain": [
              "id_str                     0\n",
              "from_user                  0\n",
              "text                       0\n",
              "created_at                 0\n",
              "time                       0\n",
              "from_user_id_str           0\n",
              "source                     0\n",
              "profile_image_url          0\n",
              "user_followers_count       4\n",
              "user_friends_count         0\n",
              "user_location           1214\n",
              "status_url                 0\n",
              "entities_str               0\n",
              "dtype: int64"
            ]
          },
          "execution_count": 62,
          "metadata": {},
          "output_type": "execute_result"
        }
      ],
      "source": [
        "df_zkh.isnull().sum()"
      ]
    },
    {
      "cell_type": "markdown",
      "metadata": {
        "id": "UpzYPs4hj8cf"
      },
      "source": [
        "### Souce Txt"
      ]
    },
    {
      "cell_type": "code",
      "execution_count": 63,
      "metadata": {
        "id": "_-r2fVWSj-AX"
      },
      "outputs": [],
      "source": [
        "df_zkh['source_txt'] = df_zkh.source.str.findall('\\>(.+)\\<').apply(lambda x: x[0] if x else '')"
      ]
    },
    {
      "cell_type": "code",
      "execution_count": 64,
      "metadata": {
        "colab": {
          "base_uri": "https://localhost:8080/"
        },
        "id": "aEDGEIiEkDxx",
        "outputId": "fa10cd71-b8da-4c91-e23e-45b2a3116931"
      },
      "outputs": [
        {
          "data": {
            "text/plain": [
              "Twitter for Android    1491\n",
              "Twitter for iPhone     1364\n",
              "Twitter Web App         428\n",
              "Twitter for iPad         45\n",
              "botmn                    11\n",
              "TweetDeck                 5\n",
              "ContestTwitterMN          1\n",
              "Buffer                    1\n",
              "Name: source_txt, dtype: int64"
            ]
          },
          "execution_count": 64,
          "metadata": {},
          "output_type": "execute_result"
        }
      ],
      "source": [
        "df_zkh.source_txt.value_counts()"
      ]
    },
    {
      "cell_type": "markdown",
      "metadata": {
        "id": "r3xDWMrvkGQp"
      },
      "source": [
        "Does not have as much source as DP and MPP files"
      ]
    },
    {
      "cell_type": "markdown",
      "metadata": {
        "id": "fERi6IHrkMMq"
      },
      "source": [
        "### Basic EDA"
      ]
    },
    {
      "cell_type": "code",
      "execution_count": 65,
      "metadata": {
        "colab": {
          "base_uri": "https://localhost:8080/",
          "height": 320
        },
        "id": "pagefVnakUGM",
        "outputId": "4bed7ae4-d28b-4b23-d490-e7c1fb8b7735"
      },
      "outputs": [
        {
          "data": {
            "image/png": "[encoded data removed]",
            "text/plain": [
              "<Figure size 432x288 with 1 Axes>"
            ]
          },
          "metadata": {
            "needs_background": "light"
          },
          "output_type": "display_data"
        }
      ],
      "source": [
        "boxplot3 = df_zkh.boxplot(column=['user_followers_count', 'user_friends_count'])"
      ]
    },
    {
      "cell_type": "markdown",
      "metadata": {
        "id": "TX8SE94UkY8A"
      },
      "source": [
        "Outliers exist in both columns"
      ]
    },
    {
      "cell_type": "code",
      "execution_count": 66,
      "metadata": {
        "colab": {
          "base_uri": "https://localhost:8080/",
          "height": 320
        },
        "id": "0mb1LrN-kYH7",
        "outputId": "07380175-3a66-4957-b7e8-c30b37d921f8"
      },
      "outputs": [
        {
          "data": {
            "image/png": "[encoded data removed]",
            "text/plain": [
              "<Figure size 432x288 with 1 Axes>"
            ]
          },
          "metadata": {
            "needs_background": "light"
          },
          "output_type": "display_data"
        }
      ],
      "source": [
        "boxplot3 = df_zkh.boxplot(column=['user_followers_count', 'user_friends_count'], showfliers=False)"
      ]
    }
  ],
  "metadata": {
    "colab": {
      "name": "twitter_clean_1.ipynb",
      "provenance": []
    },
    "interpreter": {
      "hash": "7ca8a6d04fbef201ded57fae7e1f4ca6259c859f133242f33d920bc12b7c4e6b"
    },
    "kernelspec": {
      "display_name": "Python 3.9.4 64-bit ('base': conda)",
      "name": "python3"
    },
    "language_info": {
      "codemirror_mode": {
        "name": "ipython",
        "version": 3
      },
      "file_extension": ".py",
      "mimetype": "text/x-python",
      "name": "python",
      "nbconvert_exporter": "python",
      "pygments_lexer": "ipython3",
      "version": "3.9.4"
    }
  },
  "nbformat": 4,
  "nbformat_minor": 0
}
